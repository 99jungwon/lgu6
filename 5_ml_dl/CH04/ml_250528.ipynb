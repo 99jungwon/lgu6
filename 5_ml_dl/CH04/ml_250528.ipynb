{
 "cells": [
  {
   "cell_type": "markdown",
   "id": "d5c95057-866f-4eab-ad9a-8975998e051e",
   "metadata": {},
   "source": [
    "# 교차 검증, 하이퍼파라미터 튜닝\n",
    "- 가장 좋은 모델 선정"
   ]
  },
  {
   "cell_type": "code",
   "execution_count": 1,
   "id": "53c9a505-b5a2-45f5-85e1-3cb838246578",
   "metadata": {},
   "outputs": [
    {
     "data": {
      "text/plain": [
       "Survived\n",
       "0    549\n",
       "1    342\n",
       "Name: count, dtype: int64"
      ]
     },
     "execution_count": 1,
     "metadata": {},
     "output_type": "execute_result"
    }
   ],
   "source": [
    "# 필요한 라이브러리 임포트\n",
    "import pandas as pd  # 데이터 처리를 위한 pandas\n",
    "import numpy as np   # 수치 계산을 위한 numpy\n",
    "from sklearn.ensemble import RandomForestClassifier  # 랜덤 포레스트 분류기\n",
    "from sklearn.svm import SVC  # 서포트 벡터 머신\n",
    "from sklearn.linear_model import LogisticRegression  # 로지스틱 회귀\n",
    "from sklearn.model_selection import train_test_split, cross_val_score  # 데이터 분할 및 교차 검증\n",
    "from sklearn.metrics import accuracy_score  # 정확도 평가 지표\n",
    "\n",
    "# 데이터 가져오기\n",
    "data = pd.read_csv(\"train.csv\")\n",
    "data.head()\n",
    "\n",
    "# 모델링에 사용할 특성(feature)과 타겟(target) 변수 선택\n",
    "features = ['Pclass', 'Sex', 'Age', 'SibSp', 'Parch', 'Fare', 'Embarked']  # 승객 등급, 성별, 나이, 동반자 수, 요금, 탑승 항구\n",
    "target = 'Survived'  # 생존 여부 (0: 사망, 1: 생존)\n",
    "\n",
    "data['Survived'].value_counts() # 비율이 5:5 (x) ==> 클래스 불균형, Class Imbalanced"
   ]
  },
  {
   "cell_type": "code",
   "execution_count": 2,
   "id": "688dd010-39b4-40f7-bcb2-a017a3b87fa1",
   "metadata": {},
   "outputs": [
    {
     "name": "stdout",
     "output_type": "stream",
     "text": [
      "<class 'pandas.core.frame.DataFrame'>\n",
      "RangeIndex: 891 entries, 0 to 890\n",
      "Data columns (total 12 columns):\n",
      " #   Column       Non-Null Count  Dtype  \n",
      "---  ------       --------------  -----  \n",
      " 0   PassengerId  891 non-null    int64  \n",
      " 1   Survived     891 non-null    int64  \n",
      " 2   Pclass       891 non-null    int64  \n",
      " 3   Name         891 non-null    object \n",
      " 4   Sex          891 non-null    object \n",
      " 5   Age          714 non-null    float64\n",
      " 6   SibSp        891 non-null    int64  \n",
      " 7   Parch        891 non-null    int64  \n",
      " 8   Ticket       891 non-null    object \n",
      " 9   Fare         891 non-null    float64\n",
      " 10  Cabin        204 non-null    object \n",
      " 11  Embarked     889 non-null    object \n",
      "dtypes: float64(2), int64(5), object(5)\n",
      "memory usage: 83.7+ KB\n"
     ]
    }
   ],
   "source": [
    "# 결측치 확인\n",
    "data.info()"
   ]
  },
  {
   "cell_type": "markdown",
   "id": "f1878b00-6e33-4b74-a2f8-35359a8f10de",
   "metadata": {},
   "source": [
    "# 데이터 전처리\n",
    "- 고려사항\n",
    "  + 전체 데이터에 해도 무방한가? 아니면 훈련데이터에만 적용해야 하는가?\n",
    "  + 범주 데이터는 두가지 선택지 : One-Hot Encoder, Label Encoder (0, 1, 2) / 탐색적 데이터 분석 & 사회적인 통념 기반으로 결정"
   ]
  },
  {
   "cell_type": "code",
   "execution_count": 3,
   "id": "1ba0f330-24b2-4730-a4dc-5083e31df56f",
   "metadata": {},
   "outputs": [
    {
     "data": {
      "text/html": [
       "<div>\n",
       "<style scoped>\n",
       "    .dataframe tbody tr th:only-of-type {\n",
       "        vertical-align: middle;\n",
       "    }\n",
       "\n",
       "    .dataframe tbody tr th {\n",
       "        vertical-align: top;\n",
       "    }\n",
       "\n",
       "    .dataframe thead th {\n",
       "        text-align: right;\n",
       "    }\n",
       "</style>\n",
       "<table border=\"1\" class=\"dataframe\">\n",
       "  <thead>\n",
       "    <tr style=\"text-align: right;\">\n",
       "      <th></th>\n",
       "      <th>PassengerId</th>\n",
       "      <th>Survived</th>\n",
       "      <th>Pclass</th>\n",
       "      <th>Name</th>\n",
       "      <th>Sex</th>\n",
       "      <th>Age</th>\n",
       "      <th>SibSp</th>\n",
       "      <th>Parch</th>\n",
       "      <th>Ticket</th>\n",
       "      <th>Fare</th>\n",
       "      <th>Cabin</th>\n",
       "      <th>Embarked</th>\n",
       "    </tr>\n",
       "  </thead>\n",
       "  <tbody>\n",
       "    <tr>\n",
       "      <th>0</th>\n",
       "      <td>1</td>\n",
       "      <td>0</td>\n",
       "      <td>3</td>\n",
       "      <td>Braund, Mr. Owen Harris</td>\n",
       "      <td>0</td>\n",
       "      <td>22.0</td>\n",
       "      <td>1</td>\n",
       "      <td>0</td>\n",
       "      <td>A/5 21171</td>\n",
       "      <td>7.2500</td>\n",
       "      <td>NaN</td>\n",
       "      <td>2.0</td>\n",
       "    </tr>\n",
       "    <tr>\n",
       "      <th>1</th>\n",
       "      <td>2</td>\n",
       "      <td>1</td>\n",
       "      <td>1</td>\n",
       "      <td>Cumings, Mrs. John Bradley (Florence Briggs Th...</td>\n",
       "      <td>1</td>\n",
       "      <td>38.0</td>\n",
       "      <td>1</td>\n",
       "      <td>0</td>\n",
       "      <td>PC 17599</td>\n",
       "      <td>71.2833</td>\n",
       "      <td>C85</td>\n",
       "      <td>0.0</td>\n",
       "    </tr>\n",
       "    <tr>\n",
       "      <th>2</th>\n",
       "      <td>3</td>\n",
       "      <td>1</td>\n",
       "      <td>3</td>\n",
       "      <td>Heikkinen, Miss. Laina</td>\n",
       "      <td>1</td>\n",
       "      <td>26.0</td>\n",
       "      <td>0</td>\n",
       "      <td>0</td>\n",
       "      <td>STON/O2. 3101282</td>\n",
       "      <td>7.9250</td>\n",
       "      <td>NaN</td>\n",
       "      <td>2.0</td>\n",
       "    </tr>\n",
       "    <tr>\n",
       "      <th>3</th>\n",
       "      <td>4</td>\n",
       "      <td>1</td>\n",
       "      <td>1</td>\n",
       "      <td>Futrelle, Mrs. Jacques Heath (Lily May Peel)</td>\n",
       "      <td>1</td>\n",
       "      <td>35.0</td>\n",
       "      <td>1</td>\n",
       "      <td>0</td>\n",
       "      <td>113803</td>\n",
       "      <td>53.1000</td>\n",
       "      <td>C123</td>\n",
       "      <td>2.0</td>\n",
       "    </tr>\n",
       "    <tr>\n",
       "      <th>4</th>\n",
       "      <td>5</td>\n",
       "      <td>0</td>\n",
       "      <td>3</td>\n",
       "      <td>Allen, Mr. William Henry</td>\n",
       "      <td>0</td>\n",
       "      <td>35.0</td>\n",
       "      <td>0</td>\n",
       "      <td>0</td>\n",
       "      <td>373450</td>\n",
       "      <td>8.0500</td>\n",
       "      <td>NaN</td>\n",
       "      <td>2.0</td>\n",
       "    </tr>\n",
       "  </tbody>\n",
       "</table>\n",
       "</div>"
      ],
      "text/plain": [
       "   PassengerId  Survived  Pclass  \\\n",
       "0            1         0       3   \n",
       "1            2         1       1   \n",
       "2            3         1       3   \n",
       "3            4         1       1   \n",
       "4            5         0       3   \n",
       "\n",
       "                                                Name  Sex   Age  SibSp  Parch  \\\n",
       "0                            Braund, Mr. Owen Harris    0  22.0      1      0   \n",
       "1  Cumings, Mrs. John Bradley (Florence Briggs Th...    1  38.0      1      0   \n",
       "2                             Heikkinen, Miss. Laina    1  26.0      0      0   \n",
       "3       Futrelle, Mrs. Jacques Heath (Lily May Peel)    1  35.0      1      0   \n",
       "4                           Allen, Mr. William Henry    0  35.0      0      0   \n",
       "\n",
       "             Ticket     Fare Cabin  Embarked  \n",
       "0         A/5 21171   7.2500   NaN       2.0  \n",
       "1          PC 17599  71.2833   C85       0.0  \n",
       "2  STON/O2. 3101282   7.9250   NaN       2.0  \n",
       "3            113803  53.1000  C123       2.0  \n",
       "4            373450   8.0500   NaN       2.0  "
      ]
     },
     "execution_count": 3,
     "metadata": {},
     "output_type": "execute_result"
    }
   ],
   "source": [
    "# data['Sex'].unique()\n",
    "data['Sex'] = data['Sex'].map({'male' : 0, 'female' : 1}) # 성별, 남성 = 0, 여성 = 1\n",
    "data['Embarked'] = data['Embarked'].map({'C' : 0, 'Q' : 1, 'S' : 2})\n",
    "\n",
    "data.head()"
   ]
  },
  {
   "cell_type": "code",
   "execution_count": 5,
   "id": "5aba3c1c-f99a-422e-9150-130f9ef7d1ba",
   "metadata": {},
   "outputs": [
    {
     "data": {
      "text/plain": [
       "Embarked\n",
       "2.0    644\n",
       "0.0    168\n",
       "1.0     77\n",
       "Name: count, dtype: int64"
      ]
     },
     "execution_count": 5,
     "metadata": {},
     "output_type": "execute_result"
    }
   ],
   "source": [
    "data['Embarked'].value_counts()"
   ]
  },
  {
   "cell_type": "markdown",
   "id": "8c13f1cd-5129-4229-966b-33ee984c8e77",
   "metadata": {},
   "source": [
    "# 데이터셋 분리"
   ]
  },
  {
   "cell_type": "code",
   "execution_count": 6,
   "id": "171b89ec-94e1-4fcc-923f-8f4b07031bf1",
   "metadata": {},
   "outputs": [
    {
     "data": {
      "text/plain": [
       "((668, 7), (223, 7), (668,), (223,))"
      ]
     },
     "execution_count": 6,
     "metadata": {},
     "output_type": "execute_result"
    }
   ],
   "source": [
    "# 현재 고려하지 않은 feature 3개 : ID, Name, Cabin\n",
    "features = ['Pclass', 'Sex', 'Age', 'SibSp', 'Parch', 'Fare', 'Embarked']  # 승객 등급, 성별, 나이, 동반자 수, 요금, 탑승 항구\n",
    "target = 'Survived'  # 생존 여부 (0: 사망, 1: 생존)\n",
    "\n",
    "X = data[features] # 특성 데이터\n",
    "y = data[target] # 타겟 데이터\n",
    "\n",
    "X_train, X_test, y_train, y_test = train_test_split(\n",
    "    X, y, random_state = 42, stratify = y\n",
    ")\n",
    "\n",
    "X_train.shape, X_test.shape, y_train.shape, y_test.shape"
   ]
  },
  {
   "cell_type": "markdown",
   "id": "5707eacb-18d3-43ea-805c-8f38b5df1136",
   "metadata": {},
   "source": [
    "# 피처 엔지니어링"
   ]
  },
  {
   "cell_type": "code",
   "execution_count": 23,
   "id": "886751ba-75d7-43a1-a8e8-2984730acf93",
   "metadata": {},
   "outputs": [],
   "source": [
    "# 훈련데이터의 정보를 이용해서 테스트 데이터에 적용\n",
    "# 훈련데이터에서 결측치를 채울 대표값 계산\n",
    "age_mean = round(X_train['Age'].mean(), 0)                # 승객 등급의 최빈값\n",
    "embarked_mode = X_train['Embarked'].mode()[0]             # 탑승 항구의 최빈값\n",
    "\n",
    "age_mean, embarked_mode\n",
    "\n",
    "# 훈련셋에서 결측치를 채울 대표값 계산\n",
    "age_mean = X_train['Age'].mean()  # 나이의 평균값\n",
    "fare_mean = X_train['Fare'].mean()  # 요금의 평균값\n",
    "pclass_mode = X_train['Pclass'].mode()[0]  # 승객 등급의 최빈값\n",
    "embarked_mode = X_train['Embarked'].mode()[0]  # 탑승 항구의 최빈값"
   ]
  },
  {
   "cell_type": "code",
   "execution_count": 24,
   "id": "ee201b8f-f060-4423-95c5-77da1cbfd26b",
   "metadata": {},
   "outputs": [],
   "source": [
    "# 훈련데이터 적용\n",
    "X_train['Age'] = X_train['Age'].fillna(age_mean)\n",
    "X_train['Embarked'] = X_train['Embarked'].fillna(embarked_mode)\n",
    "\n",
    "# 테스트 데이터 적용\n",
    "X_test['Age'] = X_test['Age'].fillna(age_mean)\n",
    "X_test['Embarked'] = X_test['Embarked'].fillna(embarked_mode)"
   ]
  },
  {
   "cell_type": "markdown",
   "id": "14452563-3876-4705-91fe-6637e6cca3f3",
   "metadata": {},
   "source": [
    "- 정규화, 표준화, One-Hot Encoding 고려해야 하나, 여기서는 안함\n",
    "  + 이유 : 연속형 데이터로 볼만한 것이 없음 / 이산형 데이터(Count 데이터)가 대부분"
   ]
  },
  {
   "cell_type": "markdown",
   "id": "3542126b-6492-44f6-8f07-4337bbfbfd24",
   "metadata": {},
   "source": [
    "# 모델링\n",
    "- 각 모델별 하이퍼파라미터 후보군 정의\n",
    "- 교차 검증\n",
    "- 가장 최고의 모델을 선정"
   ]
  },
  {
   "cell_type": "code",
   "execution_count": 25,
   "id": "9c450399-9722-4f16-826b-cf46dc57b1d4",
   "metadata": {},
   "outputs": [
    {
     "name": "stdout",
     "output_type": "stream",
     "text": [
      "\n",
      "--- Testing RandomForest ---\n",
      "Params: {'n_estimators': 100, 'max_depth': None}, CV Accuracy: 0.8249\n",
      "Params: {'n_estimators': 200, 'max_depth': 5}, CV Accuracy: 0.8264\n",
      "\n",
      "--- Testing SVM ---\n",
      "Params: {'C': 1.0, 'kernel': 'rbf'}, CV Accuracy: 0.6931\n",
      "Params: {'C': 0.5, 'kernel': 'linear'}, CV Accuracy: 0.7934\n",
      "\n",
      "--- Testing LogisticRegression ---\n",
      "Params: {'C': 1.0, 'max_iter': 1000}, CV Accuracy: 0.8024\n",
      "Params: {'C': 0.1, 'max_iter': 1000}, CV Accuracy: 0.8084\n",
      "\n",
      "Best Model: RandomForest\n",
      "Best CV Score: 0.8264\n",
      "Test Set Accuracy: 0.7758\n"
     ]
    }
   ],
   "source": [
    "# 사용할 모델 정의\n",
    "models = {\n",
    "    'RandomForest': RandomForestClassifier(random_state=42),  # 랜덤 포레스트 분류기\n",
    "    'SVM': SVC(random_state=42, probability=True),  # 서포트 벡터 머신\n",
    "    'LogisticRegression': LogisticRegression(random_state=42)  # 로지스틱 회귀\n",
    "}\n",
    "\n",
    "# 각 모델별 하이퍼파라미터 후보군 정의\n",
    "param_grid = {\n",
    "    'RandomForest': [\n",
    "        {'n_estimators': 100, 'max_depth': None},  # 트리 100개, 깊이 제한 없음\n",
    "        {'n_estimators': 200, 'max_depth': 5}      # 트리 200개, 최대 깊이 5\n",
    "    ],\n",
    "    'SVM': [\n",
    "        {'C': 1.0, 'kernel': 'rbf'},    # RBF 커널, C=1.0\n",
    "        {'C': 0.5, 'kernel': 'linear'}  # 선형 커널, C=0.5\n",
    "    ],\n",
    "    'LogisticRegression': [\n",
    "        {'C': 1.0, 'max_iter': 1000},  # 기본 설정\n",
    "        {'C': 0.1, 'max_iter': 1000}   # 더 강한 정규화\n",
    "    ]\n",
    "}\n",
    "\n",
    "# 교차 검증을 통한 최적 모델 선택\n",
    "best_score = 0 # 최고 성능 점수\n",
    "best_model_name = None # 최고 성능 모델 이름\n",
    "best_model = None # 최고 성능 모델 객체\n",
    "\n",
    "# 각 모델과 하이퍼파라미터 조합에 대해 교차검증 수행\n",
    "for model_name, model in models.items():\n",
    "    print(f\"\\n--- Testing {model_name} ---\")\n",
    "    for params in param_grid[model_name]:\n",
    "        model.set_params(**params)  # 하이퍼파라미터 설정\n",
    "        cv_scores = cross_val_score(model, X_train, y_train, cv=5, scoring='accuracy')  # 5-fold 교차검증\n",
    "        mean_cv = np.mean(cv_scores)  # 평균 교차검증 점수\n",
    "        print(f\"Params: {params}, CV Accuracy: {mean_cv:.4f}\")\n",
    "        \n",
    "        # 최고 성능 모델 업데이트\n",
    "        if mean_cv > best_score:\n",
    "            best_score = mean_cv\n",
    "            best_model_name = model_name\n",
    "            best_model = model.set_params(**params)\n",
    "\n",
    "# 최종 선택된 모델로 테스트셋 평가\n",
    "best_model.fit(X_train, y_train)  # 최적 모델 학습\n",
    "y_pred = best_model.predict(X_test)  # 테스트셋 예측\n",
    "test_acc = accuracy_score(y_test, y_pred)  # 테스트셋 정확도 계산\n",
    "\n",
    "# 최종 결과 출력\n",
    "print(f\"\\nBest Model: {best_model_name}\")\n",
    "print(f\"Best CV Score: {best_score:.4f}\")\n",
    "print(f\"Test Set Accuracy: {test_acc:.4f}\")"
   ]
  },
  {
   "cell_type": "markdown",
   "id": "89f3aa53-2315-4c06-93bf-d819f6e37452",
   "metadata": {},
   "source": [
    "# 각 알고리즘 개별적으로 공부하는 건 불가능\n",
    "- 알고리즘에 집중하지 말고, 설계에 집중을 해라\n",
    "- 설계 : 교차검증 & 하이퍼파라미터 튜닝 + 데이터 가공\n",
    "- 시나리오를 구성"
   ]
  },
  {
   "cell_type": "markdown",
   "id": "b38a2ab7-fa24-4ca4-bf19-e18507c3d675",
   "metadata": {},
   "source": [
    "# Decision Tree는 부등호로 구분\n",
    "- Gini, Entropy를 독립변수 구분\n",
    "\n",
    "- RandomForest ==> Decision Tree의 확장판\n",
    " + tree1 : 사망\n",
    " + tree2 : 생존\n",
    " + tree3 : 사망\n",
    "   - 결론 : 사망2, 생존1, 이 모델은 사망으로 판단"
   ]
  },
  {
   "cell_type": "code",
   "execution_count": 28,
   "id": "206c63e6-afeb-4d4f-a269-1b65cd2c9074",
   "metadata": {},
   "outputs": [
    {
     "name": "stdout",
     "output_type": "stream",
     "text": [
      "Defaulting to user installation because normal site-packages is not writeable\n",
      "Requirement already satisfied: joblib in c:\\users\\seo\\appdata\\roaming\\python\\python313\\site-packages (1.5.1)\n"
     ]
    },
    {
     "name": "stderr",
     "output_type": "stream",
     "text": [
      "\n",
      "[notice] A new release of pip is available: 24.3.1 -> 25.1.1\n",
      "[notice] To update, run: C:\\Program Files\\Python313\\python.exe -m pip install --upgrade pip\n"
     ]
    }
   ],
   "source": [
    "!pip install joblib"
   ]
  },
  {
   "cell_type": "code",
   "execution_count": 29,
   "id": "ad5799ef-e91b-4ef3-b079-28b2f74a7de7",
   "metadata": {},
   "outputs": [
    {
     "name": "stdout",
     "output_type": "stream",
     "text": [
      "\n",
      "Best Model: RandomForest\n",
      "Best CV Score: 0.8264\n",
      "Test Set Accuracy: 0.7758\n",
      "\n",
      "Model and preprocessing information have been saved.\n"
     ]
    }
   ],
   "source": [
    "import joblib\n",
    "import json\n",
    "\n",
    "# 전처리 정보 저장 & 모델 저장 내보내기\n",
    "preprocessing_info = {\n",
    "    'age_mean': float(age_mean),\n",
    "    'fare_mean': float(fare_mean),\n",
    "    'pclass_mode': int(pclass_mode),\n",
    "    'embarked_mode': int(embarked_mode),\n",
    "    'features': features,\n",
    "    'sex_mapping': {'male': 0, 'female': 1},\n",
    "    'embarked_mapping': {'C': 0, 'Q': 1, 'S': 2}\n",
    "}\n",
    "\n",
    "# 모델과 전처리 정보 저장\n",
    "joblib.dump(best_model, 'titanic_model.joblib')\n",
    "\n",
    "# 훈련데이터의 정보를 추가했다.\n",
    "with open('preprocessing_info.json', 'w') as f:\n",
    "    json.dump(preprocessing_info, f)\n",
    "\n",
    "# 최종 결과 출력\n",
    "print(f\"\\nBest Model: {best_model_name}\")\n",
    "print(f\"Best CV Score: {best_score:.4f}\")\n",
    "print(f\"Test Set Accuracy: {test_acc:.4f}\")\n",
    "print(\"\\nModel and preprocessing information have been saved.\")"
   ]
  },
  {
   "cell_type": "code",
   "execution_count": null,
   "id": "65ae355a-c81b-4794-ae53-cbe2179101e3",
   "metadata": {},
   "outputs": [],
   "source": []
  },
  {
   "cell_type": "code",
   "execution_count": null,
   "id": "8a610f38-dcbd-4676-b82c-313d4bcede01",
   "metadata": {},
   "outputs": [],
   "source": []
  },
  {
   "cell_type": "code",
   "execution_count": null,
   "id": "99d60c28-186c-4d43-8308-7ded1679944c",
   "metadata": {},
   "outputs": [],
   "source": []
  }
 ],
 "metadata": {
  "kernelspec": {
   "display_name": "Python 3 (ipykernel)",
   "language": "python",
   "name": "python3"
  },
  "language_info": {
   "codemirror_mode": {
    "name": "ipython",
    "version": 3
   },
   "file_extension": ".py",
   "mimetype": "text/x-python",
   "name": "python",
   "nbconvert_exporter": "python",
   "pygments_lexer": "ipython3",
   "version": "3.11.12"
  }
 },
 "nbformat": 4,
 "nbformat_minor": 5
}
