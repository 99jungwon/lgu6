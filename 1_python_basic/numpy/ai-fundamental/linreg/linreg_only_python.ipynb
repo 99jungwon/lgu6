{
 "cells": [
  {
   "cell_type": "markdown",
   "metadata": {
    "id": "l1KssXm5WsAu"
   },
   "source": [
    "# 파이썬과 함수 최적화만 사용하여 선형회귀 만들기\n",
    "\n",
    "- 이 노트북 파일에서는 머신러닝, 딥러닝에 대한 기본 지식이 없이 심지어 머신러닝, 딥러닝 라이브러리를 사용하지 않고 선형회귀를 구현해 봅니다.\n",
    "\n",
    "- 필요한 지식은 점과 회귀선의 차이를 줄인다는 것과 목적함수 식을 이해하는 것입니다.\n",
    "\n",
    "- 또 사용하는 라이브러리는 구성된 목적함수를 최소화 하기 위한 `scipy.optimize.minimize`함수입니다.\n",
    "\n",
    "- 중요한것은 최적화 이론 깊은 곳에서 일어나는 세부사항을 전혀 몰라도 괜찮다는 것입니다. 단지 사용하는 `minimize`함수가 주어진 함수의 함수값을 최소로 만들어 준다는 사실만 기억하세요.\n",
    "\n",
    "- 그럼 시작 해보겠습니다!\n"
   ]
  },
  {
   "cell_type": "markdown",
   "metadata": {
    "id": "72dXzyxRY9qk"
   },
   "source": [
    "## List version"
   ]
  },
  {
   "cell_type": "markdown",
   "metadata": {
    "id": "umOtEdI5XNlQ"
   },
   "source": [
    "### 모듈 임포트\n",
    "\n",
    "- 파이썬 문법 시간에 배운대로 파이썬을 제대로 활용할려면 최소한의 외부 라이브러리가 필요합니다.\n",
    "\n",
    "- 여기서는 그림을 그리기 위해 `matplotlib`와 함수를 최소화하기 위한 `minimize`함수를 임포트 하겠습니다."
   ]
  },
  {
   "cell_type": "code",
   "execution_count": 18,
   "metadata": {},
   "outputs": [],
   "source": [
    "# pip install scipy"
   ]
  },
  {
   "cell_type": "code",
   "execution_count": 19,
   "metadata": {
    "id": "41UGr46TypEn"
   },
   "outputs": [],
   "source": [
    "import matplotlib.pyplot as plt\n",
    "\n",
    "# minimize 임포트\n",
    "from scipy.optimize import minimize"
   ]
  },
  {
   "cell_type": "markdown",
   "metadata": {
    "id": "59MUqsUZWqhf"
   },
   "source": [
    "-  `minimize`함수를 사용하는 방법을 간단히 데모하겠습니다.\n",
    "```python\n",
    "minimize(function, ininial_value)\n",
    "```\n",
    "\n",
    "- `minimize`함수는 첫번째로 최소화 시킬 함수를 전달받고, 두번째로 함수를 최소화 시킬 시작점인 초기값을 전달 받습니다.\n",
    "\n",
    "- 간단하게 정의할 수 있는 2차 함수를 가지고 `minimize`함수를 사용해보겠습니다."
   ]
  },
  {
   "cell_type": "code",
   "execution_count": 20,
   "metadata": {
    "id": "QvVJsTOv0v8r"
   },
   "outputs": [],
   "source": [
    "# 입력 x를 받는 테스트 함수를 정의 합니다.\n",
    "def f(x):\n",
    "    return x**2 + 2*x + 3  # (x+1)**2 + 2"
   ]
  },
  {
   "cell_type": "markdown",
   "metadata": {
    "id": "rUYYZhcZYY8F"
   },
   "source": [
    "- 정의된 $x^2 + 2x + 3$은 간단한 계산으로 쉽게 최소값을 주는 $x$를 구할 수 있지만 `minimize`를 사용하는 방법을 익히기 위한 것이므로 여기서는 최소값을 모른다고 가정합니다.\n",
    "\n",
    "- 이제 `minimize`함수에 앞서 정의한 `f`를 주고 `0.2`부터 시작해서 최소값을 찾기로 해보겠습니다."
   ]
  },
  {
   "cell_type": "code",
   "execution_count": 21,
   "metadata": {
    "colab": {
     "base_uri": "https://localhost:8080/"
    },
    "executionInfo": {
     "elapsed": 1,
     "status": "ok",
     "timestamp": 1717890003805,
     "user": {
      "displayName": "조준우",
      "userId": "07581913480846489655"
     },
     "user_tz": -540
    },
    "id": "zRcURwACYYRV",
    "outputId": "a8d418f8-4138-495e-f97b-19a690cbd410"
   },
   "outputs": [
    {
     "data": {
      "text/plain": [
       "  message: Optimization terminated successfully.\n",
       "  success: True\n",
       "   status: 0\n",
       "      fun: 2.0\n",
       "        x: [-1.000e+00]\n",
       "      nit: 2\n",
       "      jac: [ 2.980e-08]\n",
       " hess_inv: [[ 5.000e-01]]\n",
       "     nfev: 6\n",
       "     njev: 3"
      ]
     },
     "execution_count": 21,
     "metadata": {},
     "output_type": "execute_result"
    }
   ],
   "source": [
    "result = minimize(f, 0.2)\n",
    "result"
   ]
  },
  {
   "cell_type": "markdown",
   "metadata": {
    "id": "dopvHiqMYxzN"
   },
   "source": [
    "- 결과를 보면 두번만에 최적해애 도달했음을 알 수 있습니다. (`nit:2`로 부터 반복번수가 두 번임을 알 수 있습니다.)\n",
    "\n",
    "- 찾고자 하는 `x`의 값은 -1입니다.\n",
    "\n",
    "- 실제로 2차 함수의 포물선 그래프를 그려서 결과를 도식적으로 확인해보도록 하겠습니다."
   ]
  },
  {
   "cell_type": "code",
   "execution_count": 22,
   "metadata": {
    "colab": {
     "base_uri": "https://localhost:8080/",
     "height": 430
    },
    "executionInfo": {
     "elapsed": 1122,
     "status": "ok",
     "timestamp": 1717890064890,
     "user": {
      "displayName": "조준우",
      "userId": "07581913480846489655"
     },
     "user_tz": -540
    },
    "id": "wnKtnsxG2Nju",
    "outputId": "61c1658b-5760-4804-b12a-3b696acd8e70"
   },
   "outputs": [
    {
     "data": {
      "image/png": "[encoded data removed]",
      "text/plain": [
       "<Figure size 640x480 with 1 Axes>"
      ]
     },
     "metadata": {},
     "output_type": "display_data"
    }
   ],
   "source": [
    "import numpy as np\n",
    "\n",
    "x = np.linspace(-3, 1, 50)\n",
    "\n",
    "def y(x):\n",
    "    return x**2 + 2*x + 3\n",
    "\n",
    "plt.plot(x, y(x))\n",
    "\n",
    "# 최적점 표시\n",
    "plt.plot(result.x[0], y(result.x[0]), 'ro')\n",
    "\n",
    "plt.show()"
   ]
  },
  {
   "cell_type": "markdown",
   "metadata": {
    "id": "MnIYAaUfagVs"
   },
   "source": [
    "- `x=-1.0`일 때 포물선의 가장 아래로 볼록한 위치가 확인됩니다."
   ]
  },
  {
   "cell_type": "markdown",
   "metadata": {
    "id": "F-CbZY2paqms"
   },
   "source": [
    "### 목적함수 정의\n",
    "\n",
    "- 함수를 정의하고 그 함수를 `minimize`에 넘기면 함수를 최소화 시키는 `x`를 구해준다는 것을 알았습니다.\n",
    "\n",
    "- 이제 이 실습에서 해결해야하는 과제는 주어진 점과 회귀선의 에러 총합을 함수로 정의하고 그 함수를 `minimize`함수에 넘기는 것입니다.\n",
    "\n",
    "- 먼저 임의의 데이터를 정의하겠습니다. 이 데이터를 온도에 따른 빙과류 판매량이라고 생각해보겠습니다.(주어진 숫자가 온도와 판매량에 적합하지 않는 숫자이지만)"
   ]
  },
  {
   "cell_type": "code",
   "execution_count": 23,
   "metadata": {
    "colab": {
     "base_uri": "https://localhost:8080/",
     "height": 449
    },
    "executionInfo": {
     "elapsed": 544,
     "status": "ok",
     "timestamp": 1717891254136,
     "user": {
      "displayName": "조준우",
      "userId": "07581913480846489655"
     },
     "user_tz": -540
    },
    "id": "Tj5-gbn-yr4g",
    "outputId": "b9831bbc-4b32-4599-ba98-c4ef9972cce5"
   },
   "outputs": [
    {
     "data": {
      "image/png": "[encoded data removed]",
      "text/plain": [
       "<Figure size 640x480 with 1 Axes>"
      ]
     },
     "metadata": {},
     "output_type": "display_data"
    }
   ],
   "source": [
    "# list version\n",
    "X = [1.3, 1.5, 2.0, 2.5, 2.8, 3.2]\n",
    "y = [0.8, 2.0, 1.5, 3.0, 2.5, 3.5]\n",
    "\n",
    "plt.plot(X, y, 'o')\n",
    "plt.xlabel('Temp.')\n",
    "plt.ylabel('Sales of an icecream')\n",
    "plt.show()\n",
    "\n",
    "D = {'data':X, 'target':y}"
   ]
  },
  {
   "cell_type": "markdown",
   "metadata": {
    "id": "un54QnzUbP7j"
   },
   "source": [
    "- 온도와 아이스크림 판매량 간의 관계를 직선으로 표시하고 싶습니다.\n",
    "\n",
    "- 모델은 $ y = w_1 x + w_0 $ 될 것이며 여기서 $x$는 온도 $y$는 아이스크림 판매량입니다.\n",
    "\n",
    "- 다음처럼 `Loss`클래스를 정의 합니다. 손실함수를 일반적인 `def func()`형태로 정의 하지 않고 클래스 형태로 정의하는 이유는 이 함수의 값을 구하기 위해서는 `X`와 `y`가 필요하기 때문입니다. 즉, 데이터가 필요합니다.\n",
    "\n",
    "- 이 데이터를 클래스의 내부 자료로 가지고 있으면 좀 더 명확하게 손실 함수 코드를 작성할 수 있습니다.\n",
    "\n",
    "- 손실함수 값은 다음처럼 계산됩니다.\n",
    "\n",
    "$$\n",
    "MSE = \\frac{1}{2N}  \\sum_{i=1}^{N} \\left( \\hat{y}_i - y_i \\right)^2\n",
    "$$\n",
    "\n",
    "- 위 식에서 $\\hat{y}_i$는 다음처럼 모델의 출력입니다.\n",
    "\n",
    "$$\n",
    "\\hat{y}_i = w_1 x + w_0\n",
    "$$\n",
    "\n",
    "- 위 식으로 부터 이제는 최적화 시켜야할 변수(parameter)가 두 개라는 것을 알 수 있습니다.\n",
    "\n",
    "- `__call__`함수를 정의해서 이 클래스로 부터 만들어진 객체가 callable하게 만들어 `minimize`함수가 마치 객체를 함수처럼 인식하도록 해야 합니다.\n",
    "\n",
    "\n",
    "- 클래스에 `__call__` 함수가 작동하는 간단한 예가 다음 코드로 제시되어 있습니다.\n"
   ]
  },
  {
   "cell_type": "code",
   "execution_count": 28,
   "metadata": {
    "colab": {
     "base_uri": "https://localhost:8080/"
    },
    "executionInfo": {
     "elapsed": 1,
     "status": "ok",
     "timestamp": 1717891254747,
     "user": {
      "displayName": "조준우",
      "userId": "07581913480846489655"
     },
     "user_tz": -540
    },
    "id": "vhpOCn_rP6mv",
    "outputId": "cba4de30-c9cf-474e-a801-2f548a375fde"
   },
   "outputs": [],
   "source": [
    "# __call__ 함수 데모\n",
    "\n",
    "class Foo:\n",
    "    def __init__(self, x):\n",
    "        self.x = x\n",
    "\n",
    "    def forward(self):\n",
    "        print(self.x)\n",
    "\n",
    "    def __call__(self):\n",
    "        self.forward()\n",
    "        \n",
    "\n",
    "foo = Foo(10)"
   ]
  },
  {
   "cell_type": "markdown",
   "metadata": {
    "id": "xZcI--XcP5sh"
   },
   "source": [
    "- `__call__`을 잘 이용하면 `Loss` 객체를 함수처럼 사용할 수 있습니다.\n",
    "\n",
    "- 아래 뼈대 코드의 `__call__`함수에 전달되는 `w`는 최적화 시켜야 할 파라미터가 두개 포함된 리스트입니다."
   ]
  },
  {
   "cell_type": "code",
   "execution_count": 25,
   "metadata": {
    "id": "uOEgmxe0v5_G"
   },
   "outputs": [],
   "source": [
    "class Loss:\n",
    "    def __init__(self, D):\n",
    "        # D로 부터 내부 변수로 X, y, N을 초기화\n",
    "        self.X = D['data']\n",
    "        self.y = D['target']\n",
    "        self.N = len(self.X)\n",
    "\n",
    "    def __call__(self, w):\n",
    "        \"\"\"\n",
    "        w: 매개변수 w0, w1가 포함된 리스트\n",
    "        \"\"\"\n",
    "        loss = self.forward(w)\n",
    "        return loss\n",
    "\n",
    "    def forward(self, w):\n",
    "        # 모든 점에서 발생하는 에러를 저장할 리스트를 만듭니다.\n",
    "        errors = []\n",
    "\n",
    "        # 모든 점을 순회하면서\n",
    "        for x, y in zip(self.X, self.y):\n",
    "            # 모델로 예측값을 구합니다.\n",
    "            # y = w1 * x + w0\n",
    "            y_hat = w[1]*x + w[0]\n",
    "\n",
    "            # 예측과 정답의 차이를 제곱해서 errors 리스트에 추가합니다.\n",
    "            errors.append( (y_hat - y)**2 )\n",
    "\n",
    "        # for 문을 마치고 나면 errors에 모든 에러값이 들어 있으므로\n",
    "        # 이를 모두 더하고 2N로 나눕니다.\n",
    "        return sum(errors) / (2*self.N)\n",
    "        ####################################################\n",
    "\n"
   ]
  },
  {
   "cell_type": "code",
   "execution_count": 26,
   "metadata": {
    "id": "2oWLNORgyWkl"
   },
   "outputs": [],
   "source": [
    "# 손실 함수 객체를 만들고\n",
    "loss = Loss(D)"
   ]
  },
  {
   "cell_type": "markdown",
   "metadata": {
    "id": "8qtYwS0NdcSA"
   },
   "source": [
    "- `loss`객체에서 적당한 값을 대입하고 함수값이 잘 구해지는지 테스트해보겠습니다."
   ]
  },
  {
   "cell_type": "code",
   "execution_count": 27,
   "metadata": {
    "colab": {
     "base_uri": "https://localhost:8080/"
    },
    "executionInfo": {
     "elapsed": 2,
     "status": "ok",
     "timestamp": 1717891459596,
     "user": {
      "displayName": "조준우",
      "userId": "07581913480846489655"
     },
     "user_tz": -540
    },
    "id": "lkf3J6-OdkOp",
    "outputId": "7ff5b6ae-7f54-4064-c965-7158031aa5ca"
   },
   "outputs": [
    {
     "data": {
      "text/plain": [
       "13.859166666666667"
      ]
     },
     "execution_count": 27,
     "metadata": {},
     "output_type": "execute_result"
    }
   ],
   "source": [
    "loss([3, 2])"
   ]
  },
  {
   "cell_type": "markdown",
   "metadata": {
    "id": "dHViwBk0doBK"
   },
   "source": [
    "- 3, 2라는 `w1`, `w0` 값 두개를 입력하니 손실 함숫값 하나가 출력됩니다.\n",
    "\n",
    "- 이 결과의 의미는 $2x+3$인 모델은 에러를 13.859정도 발생시킨다는 것입니다."
   ]
  },
  {
   "cell_type": "markdown",
   "metadata": {
    "id": "7TT3ymzhd35h"
   },
   "source": [
    "### 최적화\n",
    "\n",
    "- 이제 적당히 초기 `w`값을 잡고 `minimize`함수를 실행하면 됩니다."
   ]
  },
  {
   "cell_type": "code",
   "execution_count": 29,
   "metadata": {
    "colab": {
     "base_uri": "https://localhost:8080/"
    },
    "executionInfo": {
     "elapsed": 2,
     "status": "ok",
     "timestamp": 1717891519848,
     "user": {
      "displayName": "조준우",
      "userId": "07581913480846489655"
     },
     "user_tz": -540
    },
    "id": "lgiQM_yayXz0",
    "outputId": "4fc30d9f-65bc-4ff6-8f7e-b3bdf8759398"
   },
   "outputs": [
    {
     "data": {
      "text/plain": [
       "  message: Optimization terminated successfully.\n",
       "  success: True\n",
       "   status: 0\n",
       "      fun: 0.09173142070806538\n",
       "        x: [-3.737e-01  1.169e+00]\n",
       "      nit: 8\n",
       "      jac: [-4.578e-06 -6.910e-07]\n",
       " hess_inv: [[ 1.129e+01 -4.654e+00]\n",
       "            [-4.654e+00  2.104e+00]]\n",
       "     nfev: 27\n",
       "     njev: 9"
      ]
     },
     "execution_count": 29,
     "metadata": {},
     "output_type": "execute_result"
    }
   ],
   "source": [
    "# 초기 값은 그냥 0, 0으로 잡습니다.\n",
    "# 아래 numpy 버전에서 알아보겠지만 아무런 초기값을 잡아도 상관없습니다.\n",
    "w = [0, 0]\n",
    "\n",
    "# 최적화를 수행합니다.\n",
    "ret = minimize(loss, w)\n",
    "\n",
    "ret"
   ]
  },
  {
   "cell_type": "markdown",
   "metadata": {
    "id": "I_uoYNUJeNKY"
   },
   "source": [
    "-  결과는 다음과 거의 비슷해야 합니다.\n",
    "```python\n",
    "x: [-0.37368979,  1.16857979]\n",
    "```"
   ]
  },
  {
   "cell_type": "markdown",
   "metadata": {
    "id": "us3KKh5zeXcY"
   },
   "source": [
    "- 알아낸 파라메터로 그림을 그려보면 최적의 직선이 구해졌음을 알 수 있습니다."
   ]
  },
  {
   "cell_type": "code",
   "execution_count": 30,
   "metadata": {
    "colab": {
     "base_uri": "https://localhost:8080/",
     "height": 430
    },
    "executionInfo": {
     "elapsed": 3,
     "status": "ok",
     "timestamp": 1717891522990,
     "user": {
      "displayName": "조준우",
      "userId": "07581913480846489655"
     },
     "user_tz": -540
    },
    "id": "EB3_KKq0zyZL",
    "outputId": "bf0c10b7-9db5-4bfc-af28-050c85aa66c0"
   },
   "outputs": [
    {
     "data": {
      "image/png": "[encoded data removed]",
      "text/plain": [
       "<Figure size 640x480 with 1 Axes>"
      ]
     },
     "metadata": {},
     "output_type": "display_data"
    }
   ],
   "source": [
    "x = np.linspace(1.25, 3.25, 50)\n",
    "\n",
    "w0 = ret.x[0]\n",
    "w1 = ret.x[1]\n",
    "\n",
    "y_hat = w1*x + w0\n",
    "\n",
    "\n",
    "plt.plot(X, y, 'o')\n",
    "plt.plot(x, y_hat)\n",
    "plt.show()"
   ]
  },
  {
   "cell_type": "markdown",
   "metadata": {
    "id": "DRBf_0twlRGi"
   },
   "source": [
    "- 이후 numpy로 실행한 결과와 비교 하이 위해서 `results` 사전 변수에 결과를 저장합니다."
   ]
  },
  {
   "cell_type": "code",
   "execution_count": 31,
   "metadata": {
    "id": "VWYZV0fOlMbT"
   },
   "outputs": [],
   "source": [
    "results = {\"list version\": ret.x}"
   ]
  },
  {
   "cell_type": "markdown",
   "metadata": {
    "id": "AGvZiV3eY7hk"
   },
   "source": [
    "## Numpy version\n",
    "\n",
    "- 이제 위에서 작성한 클래스를 numpy를 사용하는 버전으로 바꿔보겠습니다.\n",
    "\n",
    "- 위 예시를 잘 확인하고 다음 순서로 코드를 작성하세요.\n",
    "    - numpy 모듈을 임포트 합니다.\n",
    "    - 동일한 데이터 `X`, `y`를 넘파이 어레이로 정의 합니다.\n",
    "    - `Loss` 클래스의 `__call__`을 완성합니다. 주석에 힌트를 잘 보고 한 줄로 구성할 수 있으면 베스트입니다.\n",
    "    - 로스 객체를 생성합니다.\n",
    "    - 초기값 `w`를 정의합니다.\n",
    "    - `minimize`함수를 실행해서 결과를 확인합니다.\n"
   ]
  },
  {
   "cell_type": "markdown",
   "metadata": {
    "id": "24_zozRwe7So"
   },
   "source": [
    "### 연습 1"
   ]
  },
  {
   "cell_type": "code",
   "execution_count": null,
   "metadata": {
    "id": "6GtngX1TZmhk"
   },
   "outputs": [],
   "source": [
    "# 여기에 코드를 작성하세요.\n",
    "# numpy 모듈 임포트\n",
    "\n"
   ]
  },
  {
   "cell_type": "markdown",
   "metadata": {
    "id": "RKp1CPQPe-fw"
   },
   "source": [
    "### 연습 2"
   ]
  },
  {
   "cell_type": "code",
   "execution_count": null,
   "metadata": {
    "colab": {
     "base_uri": "https://localhost:8080/",
     "height": 430
    },
    "executionInfo": {
     "elapsed": 4,
     "status": "ok",
     "timestamp": 1717891525515,
     "user": {
      "displayName": "조준우",
      "userId": "07581913480846489655"
     },
     "user_tz": -540
    },
    "id": "-_AV55DH0cOI",
    "outputId": "35116532-7cf1-4dd8-d6a8-52b588a102c4"
   },
   "outputs": [
    {
     "data": {
      "image/png": "[encoded data removed]",
      "text/plain": [
       "<Figure size 640x480 with 1 Axes>"
      ]
     },
     "metadata": {},
     "output_type": "display_data"
    }
   ],
   "source": [
    "# 여기에 코드를 작성하세요.\n",
    "# numpy array로 데이터 재정의\n",
    "X =\n",
    "y =\n",
    "\n",
    "plt.plot(X, y, 'o')\n",
    "plt.show()\n",
    "\n",
    "D = {'data':X, 'target':y}"
   ]
  },
  {
   "cell_type": "markdown",
   "metadata": {
    "id": "8CwJ032VfASQ"
   },
   "source": [
    "### 연습 3\n",
    "\n",
    "- `__call__`함수를 완성하세요.\n",
    "\n",
    "- 브로드캐스팅을 이용하고 `np.mean()`함수를 사용해서 한줄로 코딩할 수 있습니다.\n",
    "\n",
    "- 한 줄로 코딩하지 않아도 프로그램이 실행되는데는 아무런 문제가 없지만 이렇게 코딩함으로써 앞선 리스트를 사용한 예제와 차이점을 확인할 수 있으며 이는 numpy를 사용하는 이유를 좀 더 잘 이해할 수 있게 해줍니다.\n",
    "\n",
    "- `np.mean` 함수의 도움말은 [여기](https://numpy.org/doc/stable/reference/generated/numpy.mean.html)에서 확인 가능합니다.\n",
    "\n",
    "        "
   ]
  },
  {
   "cell_type": "code",
   "execution_count": null,
   "metadata": {
    "id": "9aOj7pzHZYa9"
   },
   "outputs": [],
   "source": [
    "class Loss:\n",
    "    def __init__(self, D):\n",
    "        self.X = D['data']\n",
    "        self.y = D['target']\n",
    "        self.N = len(self.X)\n",
    "\n",
    "    def __call__(self, w):\n",
    "        ####################################################\n",
    "        # 여기에 코드를 작성하세요.\n",
    "        # numpy version으로 로스 함수 재정의\n",
    "        # 힌트: np.mean()함수를 사용하고 브로드캐스팅을 생각하세요.\n",
    "        return None\n",
    "        ####################################################\n",
    "\n",
    "loss = Loss(D)"
   ]
  },
  {
   "cell_type": "markdown",
   "metadata": {
    "id": "XqUq9iPIfCUv"
   },
   "source": [
    "### 연습 4\n",
    "\n",
    "- `w` 변수에 `np.random.rand`함수를 사용하여 적당히 두 소수를 초기화 하세요.\n",
    "\n",
    "- `np.random.rand` 함수의 도움말은 [여기](https://numpy.org/doc/stable/reference/random/generated/numpy.random.rand.html)에서 확인할 수 있습니다.\n"
   ]
  },
  {
   "cell_type": "code",
   "execution_count": null,
   "metadata": {
    "colab": {
     "base_uri": "https://localhost:8080/"
    },
    "executionInfo": {
     "elapsed": 2,
     "status": "ok",
     "timestamp": 1717891527103,
     "user": {
      "displayName": "조준우",
      "userId": "07581913480846489655"
     },
     "user_tz": -540
    },
    "id": "u02YsBIOZeqN",
    "outputId": "cc783681-bd07-431a-d027-5bfd488e4517"
   },
   "outputs": [
    {
     "name": "stdout",
     "output_type": "stream",
     "text": [
      "[0.73926358 0.03918779]\n"
     ]
    }
   ],
   "source": [
    "# 여기에 코드를 작성하세요.\n",
    "w = None\n",
    "\n",
    "print(w)"
   ]
  },
  {
   "cell_type": "markdown",
   "metadata": {
    "id": "jnbyWJOMggUm"
   },
   "source": [
    "### 연습 5\n",
    "\n",
    "- 이제 만들어진 손실 함수 객체 `loss`와 초기값 `w`를 써서 `minimize`함수를 실행하세요."
   ]
  },
  {
   "cell_type": "code",
   "execution_count": null,
   "metadata": {
    "colab": {
     "base_uri": "https://localhost:8080/"
    },
    "executionInfo": {
     "elapsed": 4,
     "status": "ok",
     "timestamp": 1717891527609,
     "user": {
      "displayName": "조준우",
      "userId": "07581913480846489655"
     },
     "user_tz": -540
    },
    "id": "F8ou-p83giTf",
    "outputId": "75736697-0dd6-402a-b678-823eb9d6e3a0"
   },
   "outputs": [
    {
     "data": {
      "text/plain": [
       "  message: Optimization terminated successfully.\n",
       "  success: True\n",
       "   status: 0\n",
       "      fun: 0.09173142060173846\n",
       "        x: [-3.736e-01  1.169e+00]\n",
       "      nit: 7\n",
       "      jac: [-2.794e-08  1.118e-07]\n",
       " hess_inv: [[ 1.136e+01 -4.679e+00]\n",
       "            [-4.679e+00  2.112e+00]]\n",
       "     nfev: 27\n",
       "     njev: 9"
      ]
     },
     "execution_count": 78,
     "metadata": {},
     "output_type": "execute_result"
    }
   ],
   "source": [
    "# 여기에 코드를 작성하세요.\n",
    "ret = None\n",
    "\n",
    "ret"
   ]
  },
  {
   "cell_type": "markdown",
   "metadata": {
    "id": "iKkcBblgfD2Q"
   },
   "source": [
    "### 연습 6\n",
    "\n",
    "- 계산된 결과를 사용하여 그림을 그려봅시다.\n"
   ]
  },
  {
   "cell_type": "code",
   "execution_count": null,
   "metadata": {
    "colab": {
     "base_uri": "https://localhost:8080/",
     "height": 430
    },
    "executionInfo": {
     "elapsed": 3,
     "status": "ok",
     "timestamp": 1717891527609,
     "user": {
      "displayName": "조준우",
      "userId": "07581913480846489655"
     },
     "user_tz": -540
    },
    "id": "QGndGrTjfFIX",
    "outputId": "06b08909-60ae-418e-b300-bd9dc24b2972"
   },
   "outputs": [
    {
     "data": {
      "image/png": "[encoded data removed]",
      "text/plain": [
       "<Figure size 640x480 with 1 Axes>"
      ]
     },
     "metadata": {},
     "output_type": "display_data"
    }
   ],
   "source": [
    "# 여기에 코드를 작성하세요.\n",
    "\n"
   ]
  },
  {
   "cell_type": "markdown",
   "metadata": {
    "id": "OQGqHT0HlpqL"
   },
   "source": [
    "### 연습 7\n",
    "\n",
    "- 결과를 `results`에 `numpy_version` 키로 저장합니다."
   ]
  },
  {
   "cell_type": "code",
   "execution_count": null,
   "metadata": {
    "id": "Zb54qDXZl0QK"
   },
   "outputs": [],
   "source": [
    "# 여기에 코드를 작성하세요.\n",
    "\n"
   ]
  },
  {
   "cell_type": "code",
   "execution_count": null,
   "metadata": {
    "colab": {
     "base_uri": "https://localhost:8080/"
    },
    "executionInfo": {
     "elapsed": 1,
     "status": "ok",
     "timestamp": 1717891529480,
     "user": {
      "displayName": "조준우",
      "userId": "07581913480846489655"
     },
     "user_tz": -540
    },
    "id": "bJKauPFdl37i",
    "outputId": "dedfbfd6-26ca-432f-bd22-a1ef77eb99f3"
   },
   "outputs": [
    {
     "data": {
      "text/plain": [
       "{'list version': array([-0.37368977,  1.16857978]),\n",
       " 'numpy_version': array([-0.37364092,  1.1685598 ])}"
      ]
     },
     "execution_count": 81,
     "metadata": {},
     "output_type": "execute_result"
    }
   ],
   "source": [
    "# 두 결과는 거의 동일해야 함.\n",
    "results"
   ]
  },
  {
   "cell_type": "markdown",
   "metadata": {
    "id": "isKhE_mBSD2Y"
   },
   "source": [
    "## 선택 미션\n",
    "\n",
    "- 위 코드를 이용해서 몇가지 더 연습해볼 수 있는 문제가 남아있습니다. 다음 과제에 대해서 한번 생각해봅시다.\n",
    "\n",
    "- 주어진 점 데이터가 전체적으로 아래와 같을 때 이를 잘 피팅할 수 있는 모델(아마 3차 다항식이 될 것입니다.)을 결정한 다음, 이 모델을 위 코드를 사용해 학습하고 결과를 확인해보세요.\n",
    "\n",
    "$$\n",
    "\\hat{y} = w_3 x^3 + w_2 x^2 + w_1 x + w_0\n",
    "$$\n"
   ]
  },
  {
   "cell_type": "code",
   "execution_count": null,
   "metadata": {
    "colab": {
     "base_uri": "https://localhost:8080/",
     "height": 448
    },
    "executionInfo": {
     "elapsed": 559,
     "status": "ok",
     "timestamp": 1717891530477,
     "user": {
      "displayName": "조준우",
      "userId": "07581913480846489655"
     },
     "user_tz": -540
    },
    "id": "qBbJ5yvIgWPU",
    "outputId": "dde913b7-eb2a-4fe8-fb12-87d175d508b1"
   },
   "outputs": [
    {
     "data": {
      "text/plain": [
       "[<matplotlib.lines.Line2D at 0x7c97add69120>]"
      ]
     },
     "execution_count": 82,
     "metadata": {},
     "output_type": "execute_result"
    },
    {
     "data": {
      "image/png": "[encoded data removed]",
      "text/plain": [
       "<Figure size 640x480 with 1 Axes>"
      ]
     },
     "metadata": {},
     "output_type": "display_data"
    }
   ],
   "source": [
    "np.random.seed(0)\n",
    "X = 2 - 3 * np.random.normal(0, 1, 20)\n",
    "y = X - 2 * (X ** 2) + 1.5 * (X ** 3) + np.random.normal(-3, 3, 20)\n",
    "\n",
    "plt.plot(X, y, 'o')"
   ]
  },
  {
   "cell_type": "code",
   "execution_count": null,
   "metadata": {
    "id": "WZlbKpfdmkqf"
   },
   "outputs": [],
   "source": [
    "D = {'data':X, 'target':y}"
   ]
  },
  {
   "cell_type": "code",
   "execution_count": null,
   "metadata": {
    "id": "n6rHp7NxmvoZ"
   },
   "outputs": [],
   "source": [
    "class Loss:\n",
    "    def __init__(self, D):\n",
    "        self.X = D['data']\n",
    "        self.y = D['target']\n",
    "        self.N = len(self.X)\n",
    "\n",
    "    def __call__(self, w):\n",
    "        ####################################################\n",
    "        # 3차 다항식으로 모델을 정의하고 그 모델의 손실함수를 계산하세요.\n",
    "        return None\n",
    "        ####################################################\n",
    "\n",
    "loss = Loss(D)"
   ]
  },
  {
   "cell_type": "code",
   "execution_count": null,
   "metadata": {
    "colab": {
     "base_uri": "https://localhost:8080/",
     "height": 430
    },
    "executionInfo": {
     "elapsed": 2,
     "status": "ok",
     "timestamp": 1717891533383,
     "user": {
      "displayName": "조준우",
      "userId": "07581913480846489655"
     },
     "user_tz": -540
    },
    "id": "bsq9U9uhm3Eg",
    "outputId": "197171bb-d8b4-478a-9294-d2ec0dbfbf6b"
   },
   "outputs": [
    {
     "data": {
      "image/png": "[encoded data removed]",
      "text/plain": [
       "<Figure size 640x480 with 1 Axes>"
      ]
     },
     "metadata": {},
     "output_type": "display_data"
    }
   ],
   "source": [
    "# 무작위 w를 정의하고 이를 사용하여 loss를 최소화 시킨후\n",
    "# 최적화된 w를 사용하여 모델을 그려 결과를 확인하세요.\n",
    "\n"
   ]
  },
  {
   "cell_type": "markdown",
   "metadata": {
    "id": "bny7EUZNlB2D"
   },
   "source": [
    "## 정리\n",
    "\n",
    "- 지금까지 배운 파이썬 문법과 모듈 사용법등을 사용하여 간단한 선형회귀 모델을 구성했습니다.\n",
    "\n",
    "- 간단한 경우 이렇게 직접 코딩을 하여 처음부터 모델을 만들 수 있지만 대부분 경우 이미 구현된 구현체를 사용하게 됩니다.\n",
    "\n",
    "- 앞으로 선형회귀뿐 아니라 로지스틱 회귀, 트리모델, 차원축소 등 머신러닝에서 일반적으로 사용되는 알고리즘에 대해서 자세히 알아보고 이를 구현해놓은 [scikit-learn](https://scikit-learn.org/stable/) 라이브러리에 대해서 알아보도록 하겠습니다.\n",
    "\n",
    "\n",
    "\n",
    "\n"
   ]
  },
  {
   "cell_type": "code",
   "execution_count": null,
   "metadata": {
    "id": "-2xxhmU3nEFa"
   },
   "outputs": [],
   "source": []
  }
 ],
 "metadata": {
  "colab": {
   "authorship_tag": "ABX9TyNc5Nvrt5PWX7gHeA66fsuF",
   "provenance": [],
   "toc_visible": true
  },
  "kernelspec": {
   "display_name": "ds",
   "language": "python",
   "name": "ds"
  },
  "language_info": {
   "codemirror_mode": {
    "name": "ipython",
    "version": 3
   },
   "file_extension": ".py",
   "mimetype": "text/x-python",
   "name": "python",
   "nbconvert_exporter": "python",
   "pygments_lexer": "ipython3",
   "version": "3.10.16"
  }
 },
 "nbformat": 4,
 "nbformat_minor": 4
}
