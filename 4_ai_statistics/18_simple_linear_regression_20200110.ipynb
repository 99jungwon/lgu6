{
 "cells": [
  {
   "cell_type": "markdown",
   "metadata": {},
   "source": [
    "# 파이썬 기반의 AI를 위한 기초수학, 확률및통계"
   ]
  },
  {
   "cell_type": "code",
   "execution_count": 1,
   "metadata": {},
   "outputs": [],
   "source": [
    "## 강봉주 \n",
    "## bonjour.kang@gmail.com\n",
    "##\n",
    "## 단순 선형회귀분석\n",
    "##"
   ]
  },
  {
   "cell_type": "code",
   "execution_count": 2,
   "metadata": {},
   "outputs": [],
   "source": [
    "import ssl\n",
    "ssl._create_default_https_context = ssl._create_unverified_context"
   ]
  },
  {
   "cell_type": "code",
   "execution_count": 3,
   "metadata": {},
   "outputs": [
    {
     "data": {
      "text/plain": [
       "'0.14.4'"
      ]
     },
     "execution_count": 3,
     "metadata": {},
     "output_type": "execute_result"
    }
   ],
   "source": [
    "# 필요한 패키지\n",
    "import numpy as np\n",
    "import matplotlib.pyplot as plt\n",
    "import pandas as pd\n",
    "import warnings\n",
    "\n",
    "warnings.filterwarnings('ignore')\n",
    "\n",
    "import scipy\n",
    "from scipy import linalg as la\n",
    "import scipy.stats as ss\n",
    "import scipy.special\n",
    "\n",
    "# 한글출력\n",
    "plt.rcParams['font.family'] = 'Malgun Gothic' #  Windows 'Malgun Gothic' \n",
    "plt.rcParams['axes.unicode_minus'] = False\n",
    "\n",
    "# 필요한 패키지 2\n",
    "import statsmodels.api as sm\n",
    "import statsmodels.formula.api as smf\n",
    "sm.__version__"
   ]
  },
  {
   "cell_type": "markdown",
   "metadata": {},
   "source": [
    "## 데이터 구성"
   ]
  },
  {
   "cell_type": "code",
   "execution_count": 4,
   "metadata": {},
   "outputs": [
    {
     "data": {
      "text/html": [
       "<div>\n",
       "<style scoped>\n",
       "    .dataframe tbody tr th:only-of-type {\n",
       "        vertical-align: middle;\n",
       "    }\n",
       "\n",
       "    .dataframe tbody tr th {\n",
       "        vertical-align: top;\n",
       "    }\n",
       "\n",
       "    .dataframe thead th {\n",
       "        text-align: right;\n",
       "    }\n",
       "</style>\n",
       "<table border=\"1\" class=\"dataframe\">\n",
       "  <thead>\n",
       "    <tr style=\"text-align: right;\">\n",
       "      <th></th>\n",
       "      <th>rm</th>\n",
       "      <th>medv</th>\n",
       "    </tr>\n",
       "  </thead>\n",
       "  <tbody>\n",
       "    <tr>\n",
       "      <th>0</th>\n",
       "      <td>6.575</td>\n",
       "      <td>24.0</td>\n",
       "    </tr>\n",
       "    <tr>\n",
       "      <th>1</th>\n",
       "      <td>6.421</td>\n",
       "      <td>21.6</td>\n",
       "    </tr>\n",
       "  </tbody>\n",
       "</table>\n",
       "</div>"
      ],
      "text/plain": [
       "      rm  medv\n",
       "0  6.575  24.0\n",
       "1  6.421  21.6"
      ]
     },
     "execution_count": 4,
     "metadata": {},
     "output_type": "execute_result"
    }
   ],
   "source": [
    "# [HOUSING]\n",
    "\n",
    "# 경로 정의\n",
    "url = \"https://archive.ics.uci.edu/ml/machine-learning-databases/housing/housing.data\"\n",
    "df = pd.read_csv(url,sep='\\s+',  header=None)\n",
    "\n",
    "# 컬럼 정보 주기\n",
    "df.columns = ['CRIM', 'ZN', 'INDUS', 'CHAS', 'NOX',\n",
    "              'RM', 'AGE', 'DIS', 'RAD', 'TAX', 'PTRATIO', 'B', 'LSTAT', 'MEDV']\n",
    "df.columns = df.columns.str.lower()\n",
    "\n",
    "# 데이터 확인\n",
    "df.loc[:,['rm', 'medv']].head(2)"
   ]
  },
  {
   "cell_type": "code",
   "execution_count": 5,
   "metadata": {},
   "outputs": [
    {
     "name": "stdout",
     "output_type": "stream",
     "text": [
      "                            OLS Regression Results                            \n",
      "==============================================================================\n",
      "Dep. Variable:                   medv   R-squared:                       0.484\n",
      "Model:                            OLS   Adj. R-squared:                  0.483\n",
      "Method:                 Least Squares   F-statistic:                     471.8\n",
      "Date:                Tue, 13 May 2025   Prob (F-statistic):           2.49e-74\n",
      "Time:                        11:21:33   Log-Likelihood:                -1673.1\n",
      "No. Observations:                 506   AIC:                             3350.\n",
      "Df Residuals:                     504   BIC:                             3359.\n",
      "Df Model:                           1                                         \n",
      "Covariance Type:            nonrobust                                         \n",
      "==============================================================================\n",
      "                 coef    std err          t      P>|t|      [0.025      0.975]\n",
      "------------------------------------------------------------------------------\n",
      "const        -34.6706      2.650    -13.084      0.000     -39.877     -29.465\n",
      "rm             9.1021      0.419     21.722      0.000       8.279       9.925\n",
      "==============================================================================\n",
      "Omnibus:                      102.585   Durbin-Watson:                   0.684\n",
      "Prob(Omnibus):                  0.000   Jarque-Bera (JB):              612.449\n",
      "Skew:                           0.726   Prob(JB):                    1.02e-133\n",
      "Kurtosis:                       8.190   Cond. No.                         58.4\n",
      "==============================================================================\n",
      "\n",
      "Notes:\n",
      "[1] Standard Errors assume that the covariance matrix of the errors is correctly specified.\n"
     ]
    }
   ],
   "source": [
    "#\n",
    "# 단순 회귀 적합\n",
    "#\n",
    "\n",
    "# 데이터 정의\n",
    "X = df[\"rm\"]\n",
    "y = df[\"medv\"]\n",
    "X = sm.add_constant(X)\n",
    "\n",
    "# 모델 정의\n",
    "model = sm.OLS(y, X)\n",
    "# 모델 적합\n",
    "fit = model.fit()\n",
    "# 모델 요약\n",
    "print(fit.summary())\n"
   ]
  },
  {
   "cell_type": "markdown",
   "metadata": {},
   "source": [
    "## 오차 분산의 계산"
   ]
  },
  {
   "cell_type": "code",
   "execution_count": 6,
   "metadata": {},
   "outputs": [],
   "source": [
    "# 데이터 구성\n",
    "sample_size = 100\n",
    "\n",
    "np.random.seed(123)\n",
    "# 중복 허용\n",
    "index = np.random.choice(np.arange(len(df)), size=sample_size)\n",
    "\n",
    "X = df.loc[index, \"rm\"]\n",
    "y = df.loc[index, \"medv\"]\n",
    "X = sm.add_constant(X)"
   ]
  },
  {
   "cell_type": "code",
   "execution_count": 7,
   "metadata": {},
   "outputs": [
    {
     "data": {
      "text/plain": [
       "365    2\n",
       "322    2\n",
       "106    2\n",
       "253    2\n",
       "47     2\n",
       "96     2\n",
       "180    2\n",
       "411    2\n",
       "305    2\n",
       "208    2\n",
       "Name: count, dtype: int64"
      ]
     },
     "execution_count": 7,
     "metadata": {},
     "output_type": "execute_result"
    }
   ],
   "source": [
    "# 중복 추출된 관측값 번호 확인\n",
    "dups = X.index.value_counts()\n",
    "dups[dups > 1]"
   ]
  },
  {
   "cell_type": "code",
   "execution_count": 8,
   "metadata": {},
   "outputs": [
    {
     "data": {
      "text/plain": [
       "np.float64(7.022)"
      ]
     },
     "execution_count": 8,
     "metadata": {},
     "output_type": "execute_result"
    }
   ],
   "source": [
    "#  모델 적합\n",
    "fit = sm.OLS(y, X).fit()\n",
    "pred = fit.predict(sm.add_constant(df.loc[index, \"rm\"]))\n",
    "\n",
    "# RMSE 계산\n",
    "MSE = np.sum((y-pred)**2) / (sample_size-2)\n",
    "RMSE = np.sqrt(MSE)\n",
    "RMSE.round(3)"
   ]
  },
  {
   "cell_type": "code",
   "execution_count": 9,
   "metadata": {},
   "outputs": [
    {
     "data": {
      "text/plain": [
       "np.float64(7.022)"
      ]
     },
     "execution_count": 9,
     "metadata": {},
     "output_type": "execute_result"
    }
   ],
   "source": [
    "# 함수 결과와 확인\n",
    "np.sqrt(fit.mse_resid).round(3)"
   ]
  },
  {
   "cell_type": "markdown",
   "metadata": {},
   "source": [
    "## $R^2$ 의 계산"
   ]
  },
  {
   "cell_type": "code",
   "execution_count": 10,
   "metadata": {},
   "outputs": [],
   "source": [
    "# 데이터 구성\n",
    "sample_size = 100\n",
    "\n",
    "np.random.seed(123)\n",
    "# 중복 허용\n",
    "index = np.random.choice(np.arange(len(df)), size=sample_size)\n",
    "\n",
    "X = df.loc[index, \"rm\"]\n",
    "y = df.loc[index, \"medv\"]\n",
    "X = sm.add_constant(X)"
   ]
  },
  {
   "cell_type": "code",
   "execution_count": 11,
   "metadata": {},
   "outputs": [
    {
     "data": {
      "text/plain": [
       "np.float64(0.394)"
      ]
     },
     "execution_count": 11,
     "metadata": {},
     "output_type": "execute_result"
    }
   ],
   "source": [
    "#  모델 적합\n",
    "fit = sm.OLS(y, X).fit()\n",
    "pred = fit.predict(sm.add_constant(df.loc[index, \"rm\"]))\n",
    "\n",
    "# R^2 계산\n",
    "SST = np.sum((y-np.mean(y))**2)\n",
    "SSE = np.sum((y-pred)**2)\n",
    "SSR = SST - SSE\n",
    "R2 = SSR/SST\n",
    "R2.round(3)"
   ]
  },
  {
   "cell_type": "code",
   "execution_count": 12,
   "metadata": {},
   "outputs": [
    {
     "data": {
      "text/plain": [
       "np.float64(0.388)"
      ]
     },
     "execution_count": 12,
     "metadata": {},
     "output_type": "execute_result"
    }
   ],
   "source": [
    "# adj R^2 계산\n",
    "adjR2 = 1 - (1-R2)*(sample_size-1) / (sample_size - 2)\n",
    "adjR2.round(3)"
   ]
  },
  {
   "cell_type": "code",
   "execution_count": 13,
   "metadata": {},
   "outputs": [
    {
     "data": {
      "text/plain": [
       "array([0.394, 0.388])"
      ]
     },
     "execution_count": 13,
     "metadata": {},
     "output_type": "execute_result"
    }
   ],
   "source": [
    "# 결과값 확인\n",
    "res = np.array([fit.rsquared, fit.rsquared_adj])\n",
    "res.round(3)"
   ]
  },
  {
   "cell_type": "markdown",
   "metadata": {},
   "source": [
    "## 회귀계수의 신뢰구간 계산"
   ]
  },
  {
   "cell_type": "code",
   "execution_count": 14,
   "metadata": {},
   "outputs": [
    {
     "data": {
      "text/plain": [
       "array([5.542, 9.211])"
      ]
     },
     "execution_count": 14,
     "metadata": {},
     "output_type": "execute_result"
    }
   ],
   "source": [
    "# 적합된 모델 정보로 부터\n",
    "# 추정된 회귀 직선의 기울기\n",
    "beta = fit.params[1]\n",
    "\n",
    "# t 분포의 분위수 계산\n",
    "alpha = 0.05\n",
    "t = ss.t.ppf(1-alpha/2, df=sample_size-2)\n",
    "\n",
    "# 오차표준오차 계산\n",
    "sigma = np.sqrt(fit.mse_resid)\n",
    "\n",
    "# 데이터 제곱합 계산\n",
    "x = X.iloc[:,1]\n",
    "c = np.sum((x-np.mean(x))**2)\n",
    "\n",
    "# 신뢰구간 계산\n",
    "bse = sigma / np.sqrt(c)\n",
    "conf = np.array([beta - t*bse, beta + t*bse])\n",
    "conf.round(3)"
   ]
  },
  {
   "cell_type": "code",
   "execution_count": 15,
   "metadata": {},
   "outputs": [
    {
     "data": {
      "text/plain": [
       "0    5.542\n",
       "1    9.211\n",
       "Name: rm, dtype: float64"
      ]
     },
     "execution_count": 15,
     "metadata": {},
     "output_type": "execute_result"
    }
   ],
   "source": [
    "# 결과 확인\n",
    "fit.conf_int(alpha=0.05).loc['rm', :].round(3)"
   ]
  },
  {
   "cell_type": "markdown",
   "metadata": {},
   "source": [
    "## 회귀계수의 추론"
   ]
  },
  {
   "cell_type": "code",
   "execution_count": 16,
   "metadata": {},
   "outputs": [
    {
     "data": {
      "text/plain": [
       "array([7.98, 0.  ])"
      ]
     },
     "execution_count": 16,
     "metadata": {},
     "output_type": "execute_result"
    }
   ],
   "source": [
    "# 검정 통계량: t0 값 계산\n",
    "tvalue = beta / (sigma / np.sqrt(c))\n",
    "\n",
    "# p-value 계산: tvalue > 0 이므로\n",
    "pvalue = 2*(1 - ss.t.cdf(tvalue, df=sample_size-2))\n",
    "\n",
    "np.array([tvalue, pvalue]).round(3)"
   ]
  },
  {
   "cell_type": "code",
   "execution_count": 17,
   "metadata": {},
   "outputs": [
    {
     "data": {
      "text/plain": [
       "array([7.98, 0.  ])"
      ]
     },
     "execution_count": 17,
     "metadata": {},
     "output_type": "execute_result"
    }
   ],
   "source": [
    "# 결과 확인\n",
    "np.array([fit.tvalues['rm'], fit.pvalues['rm']]).round(3)"
   ]
  },
  {
   "cell_type": "markdown",
   "metadata": {},
   "source": [
    "## 분산 분석표의 작성"
   ]
  },
  {
   "cell_type": "code",
   "execution_count": 18,
   "metadata": {},
   "outputs": [
    {
     "data": {
      "text/plain": [
       "array([63.674,  0.   ])"
      ]
     },
     "execution_count": 18,
     "metadata": {},
     "output_type": "execute_result"
    }
   ],
   "source": [
    "# f 통계량의 계산\n",
    "fvalue = fit.mse_model / fit.mse_resid\n",
    "\n",
    "# p-value의 계산\n",
    "pvalue = 1 - ss.f.cdf(fvalue, dfn=fit.df_model, dfd= fit.df_resid)\n",
    "\n",
    "np.array([fvalue, pvalue]).round(3)"
   ]
  },
  {
   "cell_type": "code",
   "execution_count": 19,
   "metadata": {},
   "outputs": [
    {
     "data": {
      "text/plain": [
       "array([63.674,  0.   ])"
      ]
     },
     "execution_count": 19,
     "metadata": {},
     "output_type": "execute_result"
    }
   ],
   "source": [
    "# 결과 확인\n",
    "np.array([fit.fvalue, fit.f_pvalue]).round(3)"
   ]
  },
  {
   "cell_type": "markdown",
   "metadata": {},
   "source": [
    "## 회귀직선에 대한 신뢰구간"
   ]
  },
  {
   "cell_type": "code",
   "execution_count": 20,
   "metadata": {},
   "outputs": [
    {
     "data": {
      "text/plain": [
       "array([[-2.505,  2.717,  7.938],\n",
       "       [15.304, 17.286, 19.267]])"
      ]
     },
     "execution_count": 20,
     "metadata": {},
     "output_type": "execute_result"
    }
   ],
   "source": [
    "# 적합된 회귀 직선\n",
    "yhat = X @ fit.params\n",
    "\n",
    "# t 분위수 계산\n",
    "alpha = 0.05\n",
    "t = ss.t.ppf(1-alpha/2, fit.df_resid)\n",
    "\n",
    "# RMSE 계산\n",
    "sigma =  np.sqrt(fit.mse_resid)\n",
    "\n",
    "# 회귀직선 표준오차 계산\n",
    "c = np.sum((X.iloc[:, 1]-np.mean(X.iloc[:, 1]))**2)\n",
    "yhat_se = sigma * np.sqrt(1/fit.nobs + (X.iloc[:, 1]-np.mean(X.iloc[:, 1]))**2/c)\n",
    "\n",
    "# 회귀직선의 신뢰구간\n",
    "lower = yhat-t*yhat_se\n",
    "upper = yhat+t*yhat_se\n",
    "np.array([lower, yhat, upper]).round(3).T[:2, : ]"
   ]
  },
  {
   "cell_type": "code",
   "execution_count": 21,
   "metadata": {},
   "outputs": [
    {
     "name": "stdout",
     "output_type": "stream",
     "text": [
      "          mean   mean_se  mean_ci_lower  mean_ci_upper  obs_ci_lower  \\\n",
      "365   2.716666  2.631080      -2.504627       7.937960    -12.164543   \n",
      "382  17.285652  0.998497      15.304167      19.267137      3.210327   \n",
      "\n",
      "     obs_ci_upper  \n",
      "365     17.597876  \n",
      "382     31.360977  \n"
     ]
    }
   ],
   "source": [
    "# 결과 확인\n",
    "res  = fit.get_prediction(X)\n",
    "print(res.summary_frame().head(2))"
   ]
  },
  {
   "cell_type": "markdown",
   "metadata": {},
   "source": [
    "## 회귀 진단"
   ]
  },
  {
   "cell_type": "code",
   "execution_count": 22,
   "metadata": {},
   "outputs": [
    {
     "name": "stdout",
     "output_type": "stream",
     "text": [
      "                            OLS Regression Results                            \n",
      "==============================================================================\n",
      "Dep. Variable:                   medv   R-squared:                       0.368\n",
      "Model:                            OLS   Adj. R-squared:                  0.361\n",
      "Method:                 Least Squares   F-statistic:                     57.04\n",
      "Date:                Tue, 13 May 2025   Prob (F-statistic):           2.25e-11\n",
      "Time:                        11:21:33   Log-Likelihood:                -340.44\n",
      "No. Observations:                 100   AIC:                             684.9\n",
      "Df Residuals:                      98   BIC:                             690.1\n",
      "Df Model:                           1                                         \n",
      "Covariance Type:            nonrobust                                         \n",
      "==============================================================================\n",
      "                 coef    std err          t      P>|t|      [0.025      0.975]\n",
      "------------------------------------------------------------------------------\n",
      "Intercept    -26.8206      6.671     -4.020      0.000     -40.059     -13.582\n",
      "rm             7.9460      1.052      7.553      0.000       5.858      10.034\n",
      "==============================================================================\n",
      "Omnibus:                       17.839   Durbin-Watson:                   1.966\n",
      "Prob(Omnibus):                  0.000   Jarque-Bera (JB):               50.024\n",
      "Skew:                           0.518   Prob(JB):                     1.37e-11\n",
      "Kurtosis:                       6.307   Cond. No.                         58.9\n",
      "==============================================================================\n",
      "\n",
      "Notes:\n",
      "[1] Standard Errors assume that the covariance matrix of the errors is correctly specified.\n"
     ]
    }
   ],
   "source": [
    "# 표준화 잔차(내부 스튜던트화 잔차) 계산\n",
    "import statsmodels.formula.api as smf\n",
    "\n",
    "#  데이터 구성\n",
    "sample_size = 100\n",
    "\n",
    "np.random.seed(123)\n",
    "index = np.random.choice(np.arange(len(df)), size=sample_size, replace=False)\n",
    "sdf = df.loc[index]\n",
    "\n",
    "# 회귀 직선 적합\n",
    "res = smf.ols('medv ~ rm', data=sdf).fit()\n",
    "\n",
    "# 결과 확인\n",
    "print(res.summary())"
   ]
  },
  {
   "cell_type": "code",
   "execution_count": 23,
   "metadata": {},
   "outputs": [
    {
     "data": {
      "text/plain": [
       "410   -0.538\n",
       "85     0.101\n",
       "280    1.412\n",
       "dtype: float64"
      ]
     },
     "execution_count": 23,
     "metadata": {},
     "output_type": "execute_result"
    }
   ],
   "source": [
    "# 표준화 잔차 또는 내부 스튜던트화 잔차 계산\n",
    "x = sdf['rm']\n",
    "x_centered = np.array(x - x.mean())**2\n",
    "c = np.sum(x_centered)\n",
    "ti = res.resid / np.sqrt((res.mse_resid)*(1-(1/res.nobs+x_centered/c)))\n",
    "ti.head(3).round(3)"
   ]
  },
  {
   "cell_type": "code",
   "execution_count": 24,
   "metadata": {},
   "outputs": [
    {
     "data": {
      "text/plain": [
       "array([-0.538,  0.101,  1.412])"
      ]
     },
     "execution_count": 24,
     "metadata": {},
     "output_type": "execute_result"
    }
   ],
   "source": [
    "# 결과 확인\n",
    "infl = res.get_influence()\n",
    "r_standard = infl.resid_studentized\n",
    "r_standard[:3].round(3)"
   ]
  },
  {
   "cell_type": "code",
   "execution_count": 25,
   "metadata": {},
   "outputs": [
    {
     "data": {
      "text/plain": [
       "np.float64(1.966)"
      ]
     },
     "execution_count": 25,
     "metadata": {},
     "output_type": "execute_result"
    }
   ],
   "source": [
    "# 독립성 검정\n",
    "# 더빈-왓슨 통계량 계산\n",
    "dw = np.nansum((res.resid - res.resid.shift(1))**2)/np.sum(res.resid**2)\n",
    "dw.round(3)"
   ]
  },
  {
   "cell_type": "markdown",
   "metadata": {},
   "source": [
    "## 정규성 검정"
   ]
  },
  {
   "cell_type": "code",
   "execution_count": 26,
   "metadata": {
    "scrolled": true
   },
   "outputs": [
    {
     "data": {
      "image/png": "[encoded data removed]",
      "text/plain": [
       "<Figure size 700x700 with 1 Axes>"
      ]
     },
     "metadata": {},
     "output_type": "display_data"
    }
   ],
   "source": [
    "## 분위수-분위수 그림(QQ plot)\n",
    "# 데이터 구성\n",
    "x_values = r_standard\n",
    "\n",
    "# 확률 정의\n",
    "m = 100\n",
    "prob = np.arange(1, m+1)/100\n",
    "\n",
    "# 이론적인 분위수 값\n",
    "norm_ppf = ss.norm.ppf(prob)\n",
    "\n",
    "# 경험 분포에 의한 확률 값\n",
    "empirical_ppf = np.quantile(x_values, q=prob)\n",
    "\n",
    "# 최소값, 최대값 지정\n",
    "min = -3\n",
    "max = 3\n",
    "\n",
    "# 그래프로 확인\n",
    "fig, ax = plt.subplots(figsize=(7, 7))\n",
    "\n",
    "ax.scatter(norm_ppf, empirical_ppf, s=5**2, label='경험 대 이론 분위수값')\n",
    "ax.plot([min, max],[min, max], color='k', ls=':', label='참조선')\n",
    "\n",
    "ax.set_xlabel('표준정규분포 분위수')\n",
    "ax.set_ylabel('경험분포 분위수')\n",
    "\n",
    "plt.legend(loc='best', frameon=False)\n",
    "\n",
    "plt.tight_layout()"
   ]
  },
  {
   "cell_type": "code",
   "execution_count": 27,
   "metadata": {},
   "outputs": [
    {
     "data": {
      "text/plain": [
       "array([0.936, 0.   ])"
      ]
     },
     "execution_count": 27,
     "metadata": {},
     "output_type": "execute_result"
    }
   ],
   "source": [
    "# 검정 통계량에 의한 검정\n",
    "# 사피로-윌크 검정(Shapiro-Wilk test)\n",
    "np.round(ss.shapiro(x_values), 3)"
   ]
  },
  {
   "cell_type": "code",
   "execution_count": 28,
   "metadata": {},
   "outputs": [
    {
     "data": {
      "text/plain": [
       "array([0.112, 0.15 ])"
      ]
     },
     "execution_count": 28,
     "metadata": {},
     "output_type": "execute_result"
    }
   ],
   "source": [
    "# 콜모고로프-스미르노프(Kolmogorov-Smirnov) 검정\n",
    "np.round(ss.kstest(x_values, cdf='norm'), 3)"
   ]
  }
 ],
 "metadata": {
  "kernelspec": {
   "display_name": "Python 3 (ipykernel)",
   "language": "python",
   "name": "python3"
  },
  "language_info": {
   "codemirror_mode": {
    "name": "ipython",
    "version": 3
   },
   "file_extension": ".py",
   "mimetype": "text/x-python",
   "name": "python",
   "nbconvert_exporter": "python",
   "pygments_lexer": "ipython3",
   "version": "3.11.12"
  }
 },
 "nbformat": 4,
 "nbformat_minor": 4
}
