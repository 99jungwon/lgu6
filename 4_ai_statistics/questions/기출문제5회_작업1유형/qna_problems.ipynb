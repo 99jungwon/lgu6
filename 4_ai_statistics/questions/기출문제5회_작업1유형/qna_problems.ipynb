{
 "cells": [
  {
   "cell_type": "markdown",
   "metadata": {},
   "source": [
    ">**기출문제 제5회**\n",
    ">>**01 작업형 제1유형**"
   ]
  },
  {
   "cell_type": "markdown",
   "metadata": {},
   "source": [
    "## 옵션 설정"
   ]
  },
  {
   "cell_type": "code",
   "execution_count": 20,
   "metadata": {},
   "outputs": [],
   "source": [
    "import pandas as pd\n",
    "import numpy as np\n",
    "pd.set_option('display.max_columns', None) # 모든 칼럼이 출력되게 조절"
   ]
  },
  {
   "cell_type": "markdown",
   "metadata": {},
   "source": [
    "## 문제 1. \n",
    "- 다음 데이터에서 conventional 컬럼의 특수문자를 제거하고, IQR(3분위수-1분위수)를 구하시오. \n",
    "- 소수점 첫째 자리에서 반올림"
   ]
  },
  {
   "cell_type": "code",
   "execution_count": 21,
   "metadata": {},
   "outputs": [
    {
     "data": {
      "text/html": [
       "<div>\n",
       "<style scoped>\n",
       "    .dataframe tbody tr th:only-of-type {\n",
       "        vertical-align: middle;\n",
       "    }\n",
       "\n",
       "    .dataframe tbody tr th {\n",
       "        vertical-align: top;\n",
       "    }\n",
       "\n",
       "    .dataframe thead th {\n",
       "        text-align: right;\n",
       "    }\n",
       "</style>\n",
       "<table border=\"1\" class=\"dataframe\">\n",
       "  <thead>\n",
       "    <tr style=\"text-align: right;\">\n",
       "      <th></th>\n",
       "      <th>minority</th>\n",
       "      <th>crime</th>\n",
       "      <th>poverty</th>\n",
       "      <th>language</th>\n",
       "      <th>highschool</th>\n",
       "      <th>housing</th>\n",
       "      <th>city</th>\n",
       "      <th>conventional</th>\n",
       "      <th>undercount</th>\n",
       "      <th>date</th>\n",
       "    </tr>\n",
       "  </thead>\n",
       "  <tbody>\n",
       "    <tr>\n",
       "      <th>0</th>\n",
       "      <td>26.1</td>\n",
       "      <td>49</td>\n",
       "      <td>18.9</td>\n",
       "      <td>0.2</td>\n",
       "      <td>43.5</td>\n",
       "      <td>7.6</td>\n",
       "      <td>state</td>\n",
       "      <td>*</td>\n",
       "      <td>-0.04</td>\n",
       "      <td>2023-01-01</td>\n",
       "    </tr>\n",
       "    <tr>\n",
       "      <th>1</th>\n",
       "      <td>5.7</td>\n",
       "      <td>62</td>\n",
       "      <td>10.7</td>\n",
       "      <td>1.7</td>\n",
       "      <td>17.5</td>\n",
       "      <td>23.6</td>\n",
       "      <td>state</td>\n",
       "      <td>&amp;</td>\n",
       "      <td>3.35</td>\n",
       "      <td>2023-01-02</td>\n",
       "    </tr>\n",
       "    <tr>\n",
       "      <th>2</th>\n",
       "      <td>18.9</td>\n",
       "      <td>81</td>\n",
       "      <td>13.2</td>\n",
       "      <td>3.2</td>\n",
       "      <td>27.6</td>\n",
       "      <td>8.1</td>\n",
       "      <td>state</td>\n",
       "      <td>*</td>\n",
       "      <td>2.48</td>\n",
       "      <td>2023-01-03</td>\n",
       "    </tr>\n",
       "    <tr>\n",
       "      <th>3</th>\n",
       "      <td>16.9</td>\n",
       "      <td>38</td>\n",
       "      <td>19.0</td>\n",
       "      <td>0.2</td>\n",
       "      <td>44.5</td>\n",
       "      <td>7.0</td>\n",
       "      <td>state</td>\n",
       "      <td>&amp;</td>\n",
       "      <td>-0.74</td>\n",
       "      <td>2023-01-04</td>\n",
       "    </tr>\n",
       "    <tr>\n",
       "      <th>4</th>\n",
       "      <td>24.3</td>\n",
       "      <td>73</td>\n",
       "      <td>10.4</td>\n",
       "      <td>5.0</td>\n",
       "      <td>26.0</td>\n",
       "      <td>11.8</td>\n",
       "      <td>state</td>\n",
       "      <td>4</td>\n",
       "      <td>3.60</td>\n",
       "      <td>2023-01-05</td>\n",
       "    </tr>\n",
       "  </tbody>\n",
       "</table>\n",
       "</div>"
      ],
      "text/plain": [
       "   minority  crime  poverty  language  highschool  housing   city  \\\n",
       "0      26.1     49     18.9       0.2        43.5      7.6  state   \n",
       "1       5.7     62     10.7       1.7        17.5     23.6  state   \n",
       "2      18.9     81     13.2       3.2        27.6      8.1  state   \n",
       "3      16.9     38     19.0       0.2        44.5      7.0  state   \n",
       "4      24.3     73     10.4       5.0        26.0     11.8  state   \n",
       "\n",
       "  conventional  undercount        date  \n",
       "0            *       -0.04  2023-01-01  \n",
       "1            &        3.35  2023-01-02  \n",
       "2            *        2.48  2023-01-03  \n",
       "3            &       -0.74  2023-01-04  \n",
       "4            4        3.60  2023-01-05  "
      ]
     },
     "execution_count": 21,
     "metadata": {},
     "output_type": "execute_result"
    }
   ],
   "source": [
    "# 코드\n",
    "data1 = pd.read_csv('5_1_1.csv')\n",
    "data1.head()"
   ]
  },
  {
   "cell_type": "code",
   "execution_count": 22,
   "metadata": {},
   "outputs": [
    {
     "data": {
      "text/html": [
       "<div>\n",
       "<style scoped>\n",
       "    .dataframe tbody tr th:only-of-type {\n",
       "        vertical-align: middle;\n",
       "    }\n",
       "\n",
       "    .dataframe tbody tr th {\n",
       "        vertical-align: top;\n",
       "    }\n",
       "\n",
       "    .dataframe thead th {\n",
       "        text-align: right;\n",
       "    }\n",
       "</style>\n",
       "<table border=\"1\" class=\"dataframe\">\n",
       "  <thead>\n",
       "    <tr style=\"text-align: right;\">\n",
       "      <th></th>\n",
       "      <th>minority</th>\n",
       "      <th>crime</th>\n",
       "      <th>poverty</th>\n",
       "      <th>language</th>\n",
       "      <th>highschool</th>\n",
       "      <th>housing</th>\n",
       "      <th>city</th>\n",
       "      <th>conventional</th>\n",
       "      <th>undercount</th>\n",
       "      <th>date</th>\n",
       "    </tr>\n",
       "  </thead>\n",
       "  <tbody>\n",
       "    <tr>\n",
       "      <th>0</th>\n",
       "      <td>26.1</td>\n",
       "      <td>49</td>\n",
       "      <td>18.9</td>\n",
       "      <td>0.2</td>\n",
       "      <td>43.5</td>\n",
       "      <td>7.6</td>\n",
       "      <td>state</td>\n",
       "      <td></td>\n",
       "      <td>-0.04</td>\n",
       "      <td>2023-01-01</td>\n",
       "    </tr>\n",
       "  </tbody>\n",
       "</table>\n",
       "</div>"
      ],
      "text/plain": [
       "   minority  crime  poverty  language  highschool  housing   city  \\\n",
       "0      26.1     49     18.9       0.2        43.5      7.6  state   \n",
       "\n",
       "  conventional  undercount        date  \n",
       "0                    -0.04  2023-01-01  "
      ]
     },
     "execution_count": 22,
     "metadata": {},
     "output_type": "execute_result"
    }
   ],
   "source": [
    "# 영어, 숫자, 한국어를 제외한 모든 문자 제거 \n",
    "# 정규표현식\n",
    "data1.loc[:, 'conventional'] = data1.loc[:,'conventional'].str.replace(r'[^a-zA-Z0-9가-힣]', '', regex=True)\n",
    "data1.head(1)"
   ]
  },
  {
   "cell_type": "code",
   "execution_count": 30,
   "metadata": {},
   "outputs": [
    {
     "name": "stdout",
     "output_type": "stream",
     "text": [
      "8.75\n"
     ]
    }
   ],
   "source": [
    "# 코드\n",
    "# 공백 처리, NoN으로 처리 => 데이터 타입을 변경, floot, int\n",
    "data1.loc[:, 'conventional'] = data1.loc[:,'conventional'].replace('', np.nan)\n",
    "data1.loc[:, 'conventional'] = data1.loc[:,'conventional'].astype(float)\n",
    "data1\n",
    "\n",
    "# IQR 계산\n",
    "# quantile(), IQR 구하기\n",
    "q1 = data1.loc[:, 'conventional'].quantile(0.25)  # 제1사분위수\n",
    "q3 = data1.loc[:, 'conventional'].quantile(0.75)  # 제3사분위수\n",
    "iqr = q3 - q1                            # IQR\n",
    "\n",
    "print(iqr)"
   ]
  },
  {
   "cell_type": "markdown",
   "metadata": {},
   "source": [
    "## 문제 2. \n",
    "- 위 데이터에서 흑인 또는 히스패닉 비율(minority) / 빈곤율(poverty) > 2이며, 도시 유형(city)이 state인 도시의 범죄율(crime) 평균을 구하시오. \n",
    "- 소수점 첫째 자리에서 반올림"
   ]
  },
  {
   "cell_type": "code",
   "execution_count": 33,
   "metadata": {},
   "outputs": [
    {
     "data": {
      "text/html": [
       "<div>\n",
       "<style scoped>\n",
       "    .dataframe tbody tr th:only-of-type {\n",
       "        vertical-align: middle;\n",
       "    }\n",
       "\n",
       "    .dataframe tbody tr th {\n",
       "        vertical-align: top;\n",
       "    }\n",
       "\n",
       "    .dataframe thead th {\n",
       "        text-align: right;\n",
       "    }\n",
       "</style>\n",
       "<table border=\"1\" class=\"dataframe\">\n",
       "  <thead>\n",
       "    <tr style=\"text-align: right;\">\n",
       "      <th></th>\n",
       "      <th>minority</th>\n",
       "      <th>poverty</th>\n",
       "    </tr>\n",
       "  </thead>\n",
       "  <tbody>\n",
       "    <tr>\n",
       "      <th>0</th>\n",
       "      <td>26.1</td>\n",
       "      <td>18.9</td>\n",
       "    </tr>\n",
       "    <tr>\n",
       "      <th>1</th>\n",
       "      <td>5.7</td>\n",
       "      <td>10.7</td>\n",
       "    </tr>\n",
       "    <tr>\n",
       "      <th>2</th>\n",
       "      <td>18.9</td>\n",
       "      <td>13.2</td>\n",
       "    </tr>\n",
       "    <tr>\n",
       "      <th>3</th>\n",
       "      <td>16.9</td>\n",
       "      <td>19.0</td>\n",
       "    </tr>\n",
       "    <tr>\n",
       "      <th>4</th>\n",
       "      <td>24.3</td>\n",
       "      <td>10.4</td>\n",
       "    </tr>\n",
       "  </tbody>\n",
       "</table>\n",
       "</div>"
      ],
      "text/plain": [
       "   minority  poverty\n",
       "0      26.1     18.9\n",
       "1       5.7     10.7\n",
       "2      18.9     13.2\n",
       "3      16.9     19.0\n",
       "4      24.3     10.4"
      ]
     },
     "execution_count": 33,
     "metadata": {},
     "output_type": "execute_result"
    }
   ],
   "source": [
    "data1.loc[:, ['minority', 'poverty']].head()"
   ]
  },
  {
   "cell_type": "code",
   "execution_count": 42,
   "metadata": {},
   "outputs": [
    {
     "data": {
      "text/plain": [
       "np.float64(61.2)"
      ]
     },
     "execution_count": 42,
     "metadata": {},
     "output_type": "execute_result"
    }
   ],
   "source": [
    "# 코드\n",
    "# minority / poverty > 2 & city : state\n",
    "result_df = data1.loc[(data1.loc[:, 'minority'] / data1.loc[:, 'poverty'] > 2) & (data1.loc[:, 'city'] == 'state'), :]\n",
    "\n",
    "# crime 평균 계산\n",
    "result_df.loc[:, 'crime'].mean()\n",
    "round(result_df.loc[:, 'crime'].mean(), 1)"
   ]
  },
  {
   "cell_type": "markdown",
   "metadata": {},
   "source": [
    "## 문제 3. \n",
    "- 다음 데이터에서 2016년 9월 이후, 온도(actual)의 평균을 구하시오. (소수점 첫째 자리에서 반올림)\n"
   ]
  },
  {
   "cell_type": "code",
   "execution_count": 48,
   "metadata": {},
   "outputs": [
    {
     "name": "stdout",
     "output_type": "stream",
     "text": [
      "2016년 9월 이후 온도 평균: 58.0\n"
     ]
    }
   ],
   "source": [
    "# 코드 \n",
    "# 2016년 9월 이후 데이터 필터링\n",
    "data3 = pd.read_csv('5_1_2.csv')\n",
    "filtered_data = data3.loc[(data3.loc[:, 'year'] == 2016) & (data3.loc[:, 'month'] >= 9)]\n",
    "\n",
    "# 필터링된 데이터의 actual 평균 계산 및 반올림\n",
    "actual_mean = round(filtered_data.loc[:, 'actual'].mean(), 0)\n",
    "\n",
    "print(f'2016년 9월 이후 온도 평균: {actual_mean}')"
   ]
  },
  {
   "cell_type": "code",
   "execution_count": 49,
   "metadata": {},
   "outputs": [
    {
     "name": "stdout",
     "output_type": "stream",
     "text": [
      "<class 'pandas.core.frame.DataFrame'>\n",
      "RangeIndex: 348 entries, 0 to 347\n",
      "Data columns (total 10 columns):\n",
      " #   Column   Non-Null Count  Dtype         \n",
      "---  ------   --------------  -----         \n",
      " 0   year     348 non-null    int64         \n",
      " 1   month    348 non-null    int64         \n",
      " 2   day      348 non-null    int64         \n",
      " 3   week     348 non-null    object        \n",
      " 4   temp_2   348 non-null    int64         \n",
      " 5   temp_1   348 non-null    int64         \n",
      " 6   average  348 non-null    float64       \n",
      " 7   actual   348 non-null    int64         \n",
      " 8   friend   348 non-null    int64         \n",
      " 9   date     348 non-null    datetime64[ns]\n",
      "dtypes: datetime64[ns](1), float64(1), int64(7), object(1)\n",
      "memory usage: 27.3+ KB\n"
     ]
    }
   ],
   "source": [
    "# 코드 \n",
    "data3['date'] = pd.to_datetime(dict(year=data3['year'], month=data3['month'], day = data3['day']))\n",
    "data3.info()"
   ]
  },
  {
   "cell_type": "code",
   "execution_count": 51,
   "metadata": {},
   "outputs": [
    {
     "name": "stdout",
     "output_type": "stream",
     "text": [
      "Index(['year', 'month', 'day', 'week', 'temp_2', 'temp_1', 'average', 'actual',\n",
      "       'friend'],\n",
      "      dtype='object')\n",
      "57.773109243697476\n"
     ]
    }
   ],
   "source": [
    "# date 컬럼을 datetime으로 변환 (이미 했다면 생략)\n",
    "data3['date'] = pd.to_datetime(dict(year=data3['year'], month=data3['month'], day=data3['day']))\n",
    "\n",
    "# 인덱스 설정\n",
    "data4 = data3.copy()\n",
    "data4.set_index('date', inplace=True)\n",
    "\n",
    "# 컬럼명 실제 확인\n",
    "print(data4.columns)\n",
    "\n",
    "# 2016-09-01 이후의 'actual' 값 평균 구하기 (컬럼명 맞게 수정)\n",
    "filtered = data4.loc['2016-09-01':, 'actual']\n",
    "result = filtered.mean()\n",
    "print(result)"
   ]
  },
  {
   "cell_type": "code",
   "execution_count": null,
   "metadata": {},
   "outputs": [],
   "source": []
  }
 ],
 "metadata": {
  "kernelspec": {
   "display_name": "Python 3 (ipykernel)",
   "language": "python",
   "name": "python3"
  },
  "language_info": {
   "codemirror_mode": {
    "name": "ipython",
    "version": 3
   },
   "file_extension": ".py",
   "mimetype": "text/x-python",
   "name": "python",
   "nbconvert_exporter": "python",
   "pygments_lexer": "ipython3",
   "version": "3.13.2"
  }
 },
 "nbformat": 4,
 "nbformat_minor": 4
}
