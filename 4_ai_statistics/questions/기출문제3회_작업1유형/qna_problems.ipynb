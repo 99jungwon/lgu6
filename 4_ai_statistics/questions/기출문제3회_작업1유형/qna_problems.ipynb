{
 "cells": [
  {
   "cell_type": "markdown",
   "metadata": {},
   "source": [
    ">**기출문제 제3회**\n",
    ">>**01 작업형 제1유형**"
   ]
  },
  {
   "cell_type": "markdown",
   "metadata": {},
   "source": [
    "## 옵션 설정"
   ]
  },
  {
   "cell_type": "code",
   "execution_count": 1,
   "metadata": {},
   "outputs": [],
   "source": [
    "import pandas as pd\n",
    "import numpy as np\n",
    "pd.set_option('display.max_columns', None) # 모든 칼럼이 출력되게 조절"
   ]
  },
  {
   "cell_type": "code",
   "execution_count": 2,
   "metadata": {},
   "outputs": [
    {
     "data": {
      "text/html": [
       "<div>\n",
       "<style scoped>\n",
       "    .dataframe tbody tr th:only-of-type {\n",
       "        vertical-align: middle;\n",
       "    }\n",
       "\n",
       "    .dataframe tbody tr th {\n",
       "        vertical-align: top;\n",
       "    }\n",
       "\n",
       "    .dataframe thead th {\n",
       "        text-align: right;\n",
       "    }\n",
       "</style>\n",
       "<table border=\"1\" class=\"dataframe\">\n",
       "  <thead>\n",
       "    <tr style=\"text-align: right;\">\n",
       "      <th></th>\n",
       "      <th>city</th>\n",
       "      <th>homeType</th>\n",
       "      <th>latitude</th>\n",
       "      <th>longitude</th>\n",
       "      <th>garageSpaces</th>\n",
       "      <th>hasSpa</th>\n",
       "      <th>yearBuilt</th>\n",
       "      <th>numOfPatioAndPorchFeatures</th>\n",
       "      <th>lotSizeSqFt</th>\n",
       "      <th>avgSchoolRating</th>\n",
       "      <th>MedianStudentsPerTeacher</th>\n",
       "      <th>numOfBathrooms</th>\n",
       "      <th>numOfBedrooms</th>\n",
       "      <th>priceRange</th>\n",
       "    </tr>\n",
       "  </thead>\n",
       "  <tbody>\n",
       "    <tr>\n",
       "      <th>0</th>\n",
       "      <td>austin</td>\n",
       "      <td>Single Family</td>\n",
       "      <td>30.197647</td>\n",
       "      <td>-97.816811</td>\n",
       "      <td>2</td>\n",
       "      <td>False</td>\n",
       "      <td>1981</td>\n",
       "      <td>0</td>\n",
       "      <td>9757.0</td>\n",
       "      <td>4.000000</td>\n",
       "      <td>13</td>\n",
       "      <td>NaN</td>\n",
       "      <td>3</td>\n",
       "      <td>350000-450000</td>\n",
       "    </tr>\n",
       "    <tr>\n",
       "      <th>1</th>\n",
       "      <td>austin</td>\n",
       "      <td>Single Family</td>\n",
       "      <td>30.329187</td>\n",
       "      <td>-97.752731</td>\n",
       "      <td>2</td>\n",
       "      <td>False</td>\n",
       "      <td>1951</td>\n",
       "      <td>0</td>\n",
       "      <td>10846.0</td>\n",
       "      <td>7.000000</td>\n",
       "      <td>16</td>\n",
       "      <td>NaN</td>\n",
       "      <td>4</td>\n",
       "      <td>650000+</td>\n",
       "    </tr>\n",
       "    <tr>\n",
       "      <th>2</th>\n",
       "      <td>austin</td>\n",
       "      <td>Single Family</td>\n",
       "      <td>30.313305</td>\n",
       "      <td>-97.699669</td>\n",
       "      <td>0</td>\n",
       "      <td>False</td>\n",
       "      <td>1954</td>\n",
       "      <td>0</td>\n",
       "      <td>9016.0</td>\n",
       "      <td>5.000000</td>\n",
       "      <td>15</td>\n",
       "      <td>NaN</td>\n",
       "      <td>3</td>\n",
       "      <td>350000-450000</td>\n",
       "    </tr>\n",
       "    <tr>\n",
       "      <th>3</th>\n",
       "      <td>austin</td>\n",
       "      <td>Single Family</td>\n",
       "      <td>30.156321</td>\n",
       "      <td>-97.748291</td>\n",
       "      <td>2</td>\n",
       "      <td>False</td>\n",
       "      <td>2008</td>\n",
       "      <td>0</td>\n",
       "      <td>5662.0</td>\n",
       "      <td>5.333333</td>\n",
       "      <td>15</td>\n",
       "      <td>NaN</td>\n",
       "      <td>3</td>\n",
       "      <td>0-250000</td>\n",
       "    </tr>\n",
       "    <tr>\n",
       "      <th>4</th>\n",
       "      <td>austin</td>\n",
       "      <td>Townhouse</td>\n",
       "      <td>30.366995</td>\n",
       "      <td>-97.753548</td>\n",
       "      <td>2</td>\n",
       "      <td>False</td>\n",
       "      <td>1984</td>\n",
       "      <td>0</td>\n",
       "      <td>3049.0</td>\n",
       "      <td>7.000000</td>\n",
       "      <td>16</td>\n",
       "      <td>NaN</td>\n",
       "      <td>2</td>\n",
       "      <td>350000-450000</td>\n",
       "    </tr>\n",
       "  </tbody>\n",
       "</table>\n",
       "</div>"
      ],
      "text/plain": [
       "     city       homeType   latitude  longitude  garageSpaces  hasSpa  \\\n",
       "0  austin  Single Family  30.197647 -97.816811             2   False   \n",
       "1  austin  Single Family  30.329187 -97.752731             2   False   \n",
       "2  austin  Single Family  30.313305 -97.699669             0   False   \n",
       "3  austin  Single Family  30.156321 -97.748291             2   False   \n",
       "4  austin      Townhouse  30.366995 -97.753548             2   False   \n",
       "\n",
       "   yearBuilt  numOfPatioAndPorchFeatures  lotSizeSqFt  avgSchoolRating  \\\n",
       "0       1981                           0       9757.0         4.000000   \n",
       "1       1951                           0      10846.0         7.000000   \n",
       "2       1954                           0       9016.0         5.000000   \n",
       "3       2008                           0       5662.0         5.333333   \n",
       "4       1984                           0       3049.0         7.000000   \n",
       "\n",
       "   MedianStudentsPerTeacher  numOfBathrooms  numOfBedrooms     priceRange  \n",
       "0                        13             NaN              3  350000-450000  \n",
       "1                        16             NaN              4        650000+  \n",
       "2                        15             NaN              3  350000-450000  \n",
       "3                        15             NaN              3       0-250000  \n",
       "4                        16             NaN              2  350000-450000  "
      ]
     },
     "execution_count": 2,
     "metadata": {},
     "output_type": "execute_result"
    }
   ],
   "source": [
    "import pandas as pd \n",
    "\n",
    "data = pd.read_csv('3_1.csv')\n",
    "data.head()"
   ]
  },
  {
   "cell_type": "markdown",
   "metadata": {},
   "source": [
    "## 문제 1. \n",
    "- 다음 데이터에서 lotSizeSqFt이 큰 top 10을 구하고, top 10 값 중 가장 작은 값으로 해당 값을 대치하시오. \n",
    "- 또한, 건축 연도(yearBuilt)가 2000년도 이상인 IoTSizeSqFt의 평균을 구하시오.\n",
    "- 소수점 첫째 자리에서 반올림, 대치된 IoTSizeSqFt 기준\n"
   ]
  },
  {
   "cell_type": "code",
   "execution_count": 27,
   "metadata": {},
   "outputs": [
    {
     "name": "stdout",
     "output_type": "stream",
     "text": [
      "71438.4\n",
      "412    871200.0\n",
      "6      225205.2\n",
      "175    211701.6\n",
      "97     197326.8\n",
      "68     175982.4\n",
      "440     98445.6\n",
      "399     87120.0\n",
      "480     80150.4\n",
      "265     77972.4\n",
      "71      71438.4\n",
      "Name: lotSizeSqFt, dtype: float64\n",
      "12954.9\n"
     ]
    }
   ],
   "source": [
    "# 코드 작성\n",
    "data1 = data.copy()\n",
    "# print(data.head(1))\n",
    "\n",
    "# pandas 메서드 중, n~메서드 중, nlargest()\n",
    "top_10_idx = data1['lotSizeSqFt'].nlargest(10).index\n",
    "min_top_10 = data1.loc[top_10_idx, 'lotSizeSqFt'].min()\n",
    "print(min_top_10)\n",
    "print(data1.loc[top_10_idx, 'lotSizeSqFt'])\n",
    "\n",
    "# top 10에 해당하는 lotSizeSqFt 필드를 min_tio_10로 대체하세요\n",
    "data1.loc[top_10_idx, 'lotSizeSqFt'] = min_top_10\n",
    "data1.loc[412, :]\n",
    "\n",
    "# 2000년도 이상 건축물의 lotSizeSqFt 평균 계산\n",
    "mean_lot_size = data1.loc[data1['yearBuilt'] >= 2000, 'lotSizeSqFt'].mean()\n",
    "print(round(mean_lot_size, 1))"
   ]
  },
  {
   "cell_type": "markdown",
   "metadata": {},
   "source": [
    "## 문제 2. \n",
    "- 컬럼별 결측치 존재 여부를 확인하고, 결측치가 존재하는 경우 해당 컬럼의 중앙값으로 결측치를 대치하시오. \n",
    "- 결측치 대치 전과 후 표준편차 차이의 절댓값을 구하시오. \n",
    "- 소수점 둘째 자리까지 반올림\n"
   ]
  },
  {
   "cell_type": "code",
   "execution_count": 33,
   "metadata": {},
   "outputs": [
    {
     "name": "stdout",
     "output_type": "stream",
     "text": [
      "0.9893368595360542\n"
     ]
    }
   ],
   "source": [
    "data2 = data.copy()\n",
    "\n",
    "# 결측치 존재 여부 확인\n",
    "# print(data2.isnull().sum())\n",
    "# 어떤 데이터프레임이 있어도 하나의 코드로 재활용이 가능한 방법이 뭘까? <- 고민해야하는 부분\n",
    "\n",
    "print(data2.loc[:, 'numOfBathrooms'].std())"
   ]
  },
  {
   "cell_type": "code",
   "execution_count": 40,
   "metadata": {},
   "outputs": [
    {
     "name": "stdout",
     "output_type": "stream",
     "text": [
      "['numOfBathrooms']\n"
     ]
    },
    {
     "data": {
      "text/plain": [
       "numOfBathrooms    0.989337\n",
       "dtype: float64"
      ]
     },
     "execution_count": 40,
     "metadata": {},
     "output_type": "execute_result"
    }
   ],
   "source": [
    "# 코드 작성, 결측치가 있는 컬럼 찾기\n",
    "cols_with_null = data2.columns[data2.isnull().any()].tolist()\n",
    "print(cols_with_null)\n",
    "\n",
    "# 결측치 대치하기 전의 표준편차 저장\n",
    "std_before = data.loc[:, cols_with_null].std()\n",
    "std_before"
   ]
  },
  {
   "cell_type": "code",
   "execution_count": 43,
   "metadata": {},
   "outputs": [
    {
     "name": "stdout",
     "output_type": "stream",
     "text": [
      "시작\n",
      "현재 컬럼: numOfBathrooms\n",
      "현재 컬럼의 중앙값: 3.0\n"
     ]
    },
    {
     "data": {
      "text/plain": [
       "(numOfBathrooms    0.989337\n",
       " dtype: float64,\n",
       " numOfBathrooms    0.97955\n",
       " dtype: float64)"
      ]
     },
     "execution_count": 43,
     "metadata": {},
     "output_type": "execute_result"
    }
   ],
   "source": [
    "# 코드 작성\n",
    "# 2개 이상 컬럼에 각각 서로다른 컬럼의 결측치에 중앙값을 대치\n",
    "# data2.loc[].fillna()\n",
    "for col in cols_with_null:\n",
    "    print(\"시작\")\n",
    "    print(f\"현재 컬럼: {col}\")\n",
    "    median_val = data2.loc[:, col].median()\n",
    "    print(f\"현재 컬럼의 중앙값: {median_val}\")\n",
    "    data2.loc[data2[col].isnull(), col] = median_val\n",
    "\n",
    "std_after = data2.loc[:, cols_with_null].std()\n",
    "std_before, std_after"
   ]
  },
  {
   "cell_type": "markdown",
   "metadata": {},
   "source": [
    "## 문제 3. \n",
    "- 평균으로부터 1.5x 표준편차 범위 밖의 값을 이상치로 판단\n",
    "- MedianStudentsPerTeacher의 이상치를 구하고, 이상치의 개수를 구하시오.\n",
    "    + 회귀모형을 활용한 이상치 검증"
   ]
  },
  {
   "cell_type": "code",
   "execution_count": 46,
   "metadata": {},
   "outputs": [
    {
     "name": "stdout",
     "output_type": "stream",
     "text": [
      "15.088 1.6738756582968994\n",
      "이상치 개수: 65\n"
     ]
    }
   ],
   "source": [
    "# 코드 작성\n",
    "# 이상값에 대해서 설명\n",
    "# 이상치 판별 시, 가장 확실한 방법 : 도메인 기반, 추천 방식: 회귀모형 이상치 판별\n",
    "\n",
    "data3 = data.copy()\n",
    "\n",
    "# 이상치 범위 계산 (평균 ± 1.5 * 표준편차)\n",
    "spt_mean = data3.loc[:, 'MedianStudentsPerTeacher'].mean()\n",
    "spt_std = data3.loc[:, 'MedianStudentsPerTeacher'].std()\n",
    "\n",
    "print(spt_mean, spt_std)\n",
    "lower_bound = spt_mean - 1.5 * spt_std\n",
    "upper_bound = spt_mean + 1.5 * spt_std\n",
    "\n",
    "# 이상치 찾기, 조건식 OR 연산자 활용\n",
    "outliers = data3.loc[(data3.loc[:, 'MedianStudentsPerTeacher'] < lower_bound) |\n",
    "                     (data3.loc[:, 'MedianStudentsPerTeacher'] > upper_bound)]\n",
    "\n",
    "# 이상치 개수 출력\n",
    "print(\"이상치 개수:\", len(outliers))"
   ]
  },
  {
   "cell_type": "code",
   "execution_count": 47,
   "metadata": {},
   "outputs": [],
   "source": [
    "def detect_outliers_by_std(data, column, threshold=1.5):\n",
    "    if column not in data.columns:\n",
    "        raise ValueError(f\"컬럼 '{column}' 이(가) 데이터에 없습니다.\")\n",
    "\n",
    "    df = data.copy()\n",
    "    col_mean = df[column].mean()\n",
    "    col_std = df[column].std()\n",
    "    \n",
    "    lower_bound = col_mean - threshold * col_std\n",
    "    upper_bound = col_mean + threshold * col_std\n",
    "    \n",
    "    outliers_df = df[(df[column] < lower_bound) | (df[column] > upper_bound)]\n",
    "    outlier_count = len(outliers_df)\n",
    "    stats = (round(col_mean, 2), round(col_std, 2), round(lower_bound, 2), round(upper_bound, 2))\n",
    "    \n",
    "    return outliers_df, outlier_count, stats\n"
   ]
  },
  {
   "cell_type": "code",
   "execution_count": 49,
   "metadata": {},
   "outputs": [
    {
     "name": "stdout",
     "output_type": "stream",
     "text": [
      "이상치 개수: 65\n",
      "통계: (np.float64(15.09), np.float64(1.67), np.float64(12.58), np.float64(17.6))\n"
     ]
    }
   ],
   "source": [
    "outliers, count, stats = detect_outliers_by_std(data, 'MedianStudentsPerTeacher', threshold=1.5)\n",
    "print(f\"이상치 개수: {count}\")\n",
    "print(\"통계:\", stats)"
   ]
  },
  {
   "cell_type": "code",
   "execution_count": null,
   "metadata": {},
   "outputs": [],
   "source": []
  }
 ],
 "metadata": {
  "kernelspec": {
   "display_name": "Python 3 (ipykernel)",
   "language": "python",
   "name": "python3"
  },
  "language_info": {
   "codemirror_mode": {
    "name": "ipython",
    "version": 3
   },
   "file_extension": ".py",
   "mimetype": "text/x-python",
   "name": "python",
   "nbconvert_exporter": "python",
   "pygments_lexer": "ipython3",
   "version": "3.11.12"
  }
 },
 "nbformat": 4,
 "nbformat_minor": 4
}
