{
 "cells": [
  {
   "cell_type": "code",
   "execution_count": 1,
   "id": "f9ed5405-f196-4421-82a8-66e64cb971eb",
   "metadata": {},
   "outputs": [
    {
     "name": "stdout",
     "output_type": "stream",
     "text": [
      "YF.download() has changed argument auto_adjust default to True\n"
     ]
    },
    {
     "name": "stderr",
     "output_type": "stream",
     "text": [
      "[*********************100%***********************]  1 of 1 completed\n"
     ]
    },
    {
     "data": {
      "text/html": [
       "<div>\n",
       "<style scoped>\n",
       "    .dataframe tbody tr th:only-of-type {\n",
       "        vertical-align: middle;\n",
       "    }\n",
       "\n",
       "    .dataframe tbody tr th {\n",
       "        vertical-align: top;\n",
       "    }\n",
       "\n",
       "    .dataframe thead th {\n",
       "        text-align: right;\n",
       "    }\n",
       "</style>\n",
       "<table border=\"1\" class=\"dataframe\">\n",
       "  <thead>\n",
       "    <tr style=\"text-align: right;\">\n",
       "      <th></th>\n",
       "      <th>Date</th>\n",
       "      <th>Close</th>\n",
       "    </tr>\n",
       "  </thead>\n",
       "  <tbody>\n",
       "    <tr>\n",
       "      <th>0</th>\n",
       "      <td>2020-01-02</td>\n",
       "      <td>72.620834</td>\n",
       "    </tr>\n",
       "    <tr>\n",
       "      <th>1</th>\n",
       "      <td>2020-01-03</td>\n",
       "      <td>71.914825</td>\n",
       "    </tr>\n",
       "    <tr>\n",
       "      <th>2</th>\n",
       "      <td>2020-01-06</td>\n",
       "      <td>72.487839</td>\n",
       "    </tr>\n",
       "    <tr>\n",
       "      <th>3</th>\n",
       "      <td>2020-01-07</td>\n",
       "      <td>72.146957</td>\n",
       "    </tr>\n",
       "    <tr>\n",
       "      <th>4</th>\n",
       "      <td>2020-01-08</td>\n",
       "      <td>73.307503</td>\n",
       "    </tr>\n",
       "    <tr>\n",
       "      <th>...</th>\n",
       "      <td>...</td>\n",
       "      <td>...</td>\n",
       "    </tr>\n",
       "    <tr>\n",
       "      <th>248</th>\n",
       "      <td>2020-12-24</td>\n",
       "      <td>128.737000</td>\n",
       "    </tr>\n",
       "    <tr>\n",
       "      <th>249</th>\n",
       "      <td>2020-12-28</td>\n",
       "      <td>133.341339</td>\n",
       "    </tr>\n",
       "    <tr>\n",
       "      <th>250</th>\n",
       "      <td>2020-12-29</td>\n",
       "      <td>131.565933</td>\n",
       "    </tr>\n",
       "    <tr>\n",
       "      <th>251</th>\n",
       "      <td>2020-12-30</td>\n",
       "      <td>130.444122</td>\n",
       "    </tr>\n",
       "    <tr>\n",
       "      <th>252</th>\n",
       "      <td>2020-12-31</td>\n",
       "      <td>129.439346</td>\n",
       "    </tr>\n",
       "  </tbody>\n",
       "</table>\n",
       "<p>253 rows × 2 columns</p>\n",
       "</div>"
      ],
      "text/plain": [
       "          Date       Close\n",
       "0   2020-01-02   72.620834\n",
       "1   2020-01-03   71.914825\n",
       "2   2020-01-06   72.487839\n",
       "3   2020-01-07   72.146957\n",
       "4   2020-01-08   73.307503\n",
       "..         ...         ...\n",
       "248 2020-12-24  128.737000\n",
       "249 2020-12-28  133.341339\n",
       "250 2020-12-29  131.565933\n",
       "251 2020-12-30  130.444122\n",
       "252 2020-12-31  129.439346\n",
       "\n",
       "[253 rows x 2 columns]"
      ]
     },
     "execution_count": 1,
     "metadata": {},
     "output_type": "execute_result"
    }
   ],
   "source": [
    "import yfinance as yf\n",
    "import pandas as pd\n",
    "from pmdarima import auto_arima\n",
    "import warnings\n",
    "import numpy as np\n",
    "from statsmodels.tsa.statespace.sarimax import SARIMAX\n",
    "from statsmodels.tsa.arima_process import ArmaProcess\n",
    "from statsmodels.graphics.tsaplots import plot_acf, plot_pacf\n",
    "from statsmodels.tsa.stattools import adfuller\n",
    "warnings.filterwarnings('ignore')\n",
    "\n",
    "data = yf.download(\"AAPL\", start=\"2020-01-01\", end=\"2021-01-01\")\n",
    "data.columns = data.columns.droplevel(1)\n",
    "data2 = data['Close'].reset_index()\n",
    "data2"
   ]
  },
  {
   "cell_type": "markdown",
   "id": "6c4282ab-cfae-417d-ab76-0c65e40475df",
   "metadata": {},
   "source": [
    "## 데이터셋 분리"
   ]
  },
  {
   "cell_type": "code",
   "execution_count": 2,
   "id": "a0b23c50-b815-4a8b-9d58-26387a5873e5",
   "metadata": {},
   "outputs": [
    {
     "name": "stdout",
     "output_type": "stream",
     "text": [
      "246\n",
      "7\n"
     ]
    }
   ],
   "source": [
    "train = data2[:-7]\n",
    "test = data2[-7:]\n",
    "\n",
    "print(len(train))\n",
    "print(len(test))"
   ]
  },
  {
   "cell_type": "markdown",
   "id": "6950ea82",
   "metadata": {},
   "source": [
    "## 최적의 p,d,q 찾기"
   ]
  },
  {
   "cell_type": "code",
   "execution_count": 3,
   "id": "a2477d3a",
   "metadata": {},
   "outputs": [
    {
     "name": "stdout",
     "output_type": "stream",
     "text": [
      "Performing stepwise search to minimize aic\n",
      " ARIMA(0,1,0)(0,0,0)[0] intercept   : AIC=1154.221, Time=0.01 sec\n",
      " ARIMA(1,1,0)(0,0,0)[0] intercept   : AIC=1148.020, Time=0.02 sec\n",
      " ARIMA(0,1,1)(0,0,0)[0] intercept   : AIC=1148.911, Time=0.02 sec\n",
      " ARIMA(0,1,0)(0,0,0)[0]             : AIC=1153.970, Time=0.00 sec\n",
      " ARIMA(2,1,0)(0,0,0)[0] intercept   : AIC=1149.413, Time=0.03 sec\n",
      " ARIMA(1,1,1)(0,0,0)[0] intercept   : AIC=1149.457, Time=0.03 sec\n",
      " ARIMA(2,1,1)(0,0,0)[0] intercept   : AIC=1151.399, Time=0.04 sec\n",
      " ARIMA(1,1,0)(0,0,0)[0]             : AIC=1148.513, Time=0.01 sec\n",
      "\n",
      "Best model:  ARIMA(1,1,0)(0,0,0)[0] intercept\n",
      "Total fit time: 0.161 seconds\n",
      "\n",
      "최적의 파라미터:\n",
      "p: 1\n",
      "d: 1\n",
      "q: 0\n"
     ]
    }
   ],
   "source": [
    "# auto_arima로 최적의 파라미터 찾기\n",
    "model = auto_arima(train['Close'], \n",
    "                  start_p=0, start_q=0,\n",
    "                  max_p=5, max_q=5,\n",
    "                  d=None,  # 자동으로 차분 차수 결정\n",
    "                  seasonal=False,  # 계절성 없는 경우\n",
    "                  trace=True,  # 학습 과정 출력\n",
    "                  error_action='ignore',\n",
    "                  suppress_warnings=True,\n",
    "                  stepwise=True)  # 단계적 탐색으로 계산량 감소\n",
    "\n",
    "# 최적의 파라미터 출력\n",
    "print(\"\\n최적의 파라미터:\")\n",
    "print(f\"p: {model.order[0]}\")\n",
    "print(f\"d: {model.order[1]}\")\n",
    "print(f\"q: {model.order[2]}\")"
   ]
  },
  {
   "cell_type": "markdown",
   "id": "a0c5e0e9-7dc5-41c1-bdc4-501ef2537f1c",
   "metadata": {},
   "source": [
    "## Rolloing Forecast"
   ]
  },
  {
   "cell_type": "code",
   "execution_count": 4,
   "id": "e82663bd-9618-46fc-88b0-8fd39a519efb",
   "metadata": {},
   "outputs": [],
   "source": [
    "def rolling_forecast(df: pd.DataFrame, train_len: int, horizon: int, window: int, method: str) -> list:\n",
    "\n",
    "    total_len = train_len + horizon\n",
    "    end_idx = train_len\n",
    "\n",
    "    if method == 'mean':\n",
    "        pred_mean = []\n",
    "\n",
    "        for i in range(train_len, total_len, window):\n",
    "            mean = np.mean(df['Close'][:i].values)\n",
    "            pred_mean.extend(mean for _ in range(window))\n",
    "\n",
    "        return pred_mean\n",
    "\n",
    "    elif method == 'last':\n",
    "        pred_last_value = []\n",
    "\n",
    "        for i in range(train_len, total_len, window):\n",
    "            last_value = df['Close'][:i].iloc[-1]\n",
    "            pred_last_value.extend(last_value for _ in range(window))\n",
    "\n",
    "        return pred_last_value\n",
    "\n",
    "    elif method == 'AR':\n",
    "        pred_AR = []\n",
    "\n",
    "        for i in range(train_len, total_len, window):\n",
    "            model = SARIMAX(df['Close'][:i], order=(1,1,0))\n",
    "            res = model.fit(disp=False)\n",
    "            predictions = res.get_prediction(0, i + window - 1)\n",
    "            oos_pred = predictions.predicted_mean.iloc[-window:]\n",
    "            pred_AR.extend(oos_pred)\n",
    "\n",
    "        return pred_AR"
   ]
  },
  {
   "cell_type": "code",
   "execution_count": 5,
   "id": "809dfde6-5d4d-4cae-bd80-f395692204ef",
   "metadata": {},
   "outputs": [
    {
     "data": {
      "text/html": [
       "<div>\n",
       "<style scoped>\n",
       "    .dataframe tbody tr th:only-of-type {\n",
       "        vertical-align: middle;\n",
       "    }\n",
       "\n",
       "    .dataframe tbody tr th {\n",
       "        vertical-align: top;\n",
       "    }\n",
       "\n",
       "    .dataframe thead th {\n",
       "        text-align: right;\n",
       "    }\n",
       "</style>\n",
       "<table border=\"1\" class=\"dataframe\">\n",
       "  <thead>\n",
       "    <tr style=\"text-align: right;\">\n",
       "      <th></th>\n",
       "      <th>Date</th>\n",
       "      <th>Close</th>\n",
       "      <th>pred_mean</th>\n",
       "      <th>pred_last_value</th>\n",
       "      <th>pred_AR</th>\n",
       "    </tr>\n",
       "  </thead>\n",
       "  <tbody>\n",
       "    <tr>\n",
       "      <th>246</th>\n",
       "      <td>2020-12-22</td>\n",
       "      <td>128.649216</td>\n",
       "      <td>91.654744</td>\n",
       "      <td>125.088593</td>\n",
       "      <td>124.823742</td>\n",
       "    </tr>\n",
       "    <tr>\n",
       "      <th>247</th>\n",
       "      <td>2020-12-23</td>\n",
       "      <td>127.751732</td>\n",
       "      <td>91.654744</td>\n",
       "      <td>125.088593</td>\n",
       "      <td>124.869543</td>\n",
       "    </tr>\n",
       "    <tr>\n",
       "      <th>248</th>\n",
       "      <td>2020-12-24</td>\n",
       "      <td>128.737000</td>\n",
       "      <td>91.654744</td>\n",
       "      <td>125.088593</td>\n",
       "      <td>124.861623</td>\n",
       "    </tr>\n",
       "    <tr>\n",
       "      <th>249</th>\n",
       "      <td>2020-12-28</td>\n",
       "      <td>133.341339</td>\n",
       "      <td>91.654744</td>\n",
       "      <td>125.088593</td>\n",
       "      <td>124.862992</td>\n",
       "    </tr>\n",
       "    <tr>\n",
       "      <th>250</th>\n",
       "      <td>2020-12-29</td>\n",
       "      <td>131.565933</td>\n",
       "      <td>91.654744</td>\n",
       "      <td>125.088593</td>\n",
       "      <td>124.862755</td>\n",
       "    </tr>\n",
       "  </tbody>\n",
       "</table>\n",
       "</div>"
      ],
      "text/plain": [
       "          Date       Close  pred_mean  pred_last_value     pred_AR\n",
       "246 2020-12-22  128.649216  91.654744       125.088593  124.823742\n",
       "247 2020-12-23  127.751732  91.654744       125.088593  124.869543\n",
       "248 2020-12-24  128.737000  91.654744       125.088593  124.861623\n",
       "249 2020-12-28  133.341339  91.654744       125.088593  124.862992\n",
       "250 2020-12-29  131.565933  91.654744       125.088593  124.862755"
      ]
     },
     "execution_count": 5,
     "metadata": {},
     "output_type": "execute_result"
    }
   ],
   "source": [
    "import numpy as np\n",
    "\n",
    "TRAIN_LEN = len(train)\n",
    "HORIZON = len(test)\n",
    "WINDOW = 1\n",
    "\n",
    "pred_mean = rolling_forecast(train, TRAIN_LEN, HORIZON, WINDOW, 'mean')\n",
    "pred_last_value = rolling_forecast(train, TRAIN_LEN, HORIZON, WINDOW, 'last')\n",
    "pred_AR = rolling_forecast(train, TRAIN_LEN, HORIZON, WINDOW, 'AR')\n",
    "\n",
    "test['pred_mean'] = pred_mean\n",
    "test['pred_last_value'] = pred_last_value\n",
    "test['pred_AR'] = pred_AR\n",
    "\n",
    "test.head()"
   ]
  },
  {
   "cell_type": "code",
   "execution_count": 12,
   "id": "5c1c571f-2d9c-4f41-a6cb-8e0dcb3a461b",
   "metadata": {},
   "outputs": [
    {
     "data": {
      "image/png": "[encoded data removed]",
      "text/plain": [
       "<Figure size 1200x600 with 1 Axes>"
      ]
     },
     "metadata": {},
     "output_type": "display_data"
    }
   ],
   "source": [
    "import matplotlib.pyplot as plt\n",
    "\n",
    "fig, ax = plt.subplots(figsize=(12, 6))\n",
    "\n",
    "# 전체 실제값\n",
    "ax.plot(data2['Date'], data2['Close'], 'b-', label='actual')\n",
    "\n",
    "# 테스트 구간 실제값 및 예측값\n",
    "ax.plot(test['Date'], test['pred_mean'], 'g:', label='mean')\n",
    "ax.plot(test['Date'], test['pred_last_value'], 'r-.', label='last')\n",
    "ax.plot(test['Date'], test['pred_AR'], 'k--', label='ARIMA(1,1,0)')\n",
    "\n",
    "ax.legend(loc='best')\n",
    "ax.set_xlabel('Date')\n",
    "ax.set_ylabel('Close Price')\n",
    "fig.autofmt_xdate()\n",
    "plt.tight_layout()\n",
    "plt.show()"
   ]
  }
 ],
 "metadata": {
  "kernelspec": {
   "display_name": "Python 3 (ipykernel)",
   "language": "python",
   "name": "python3"
  },
  "language_info": {
   "codemirror_mode": {
    "name": "ipython",
    "version": 3
   },
   "file_extension": ".py",
   "mimetype": "text/x-python",
   "name": "python",
   "nbconvert_exporter": "python",
   "pygments_lexer": "ipython3",
   "version": "3.11.12"
  }
 },
 "nbformat": 4,
 "nbformat_minor": 5
}
