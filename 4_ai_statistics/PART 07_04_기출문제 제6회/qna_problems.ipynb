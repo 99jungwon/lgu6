{
 "cells": [
  {
   "cell_type": "markdown",
   "metadata": {
    "id": "msx1aL9oCAyB"
   },
   "source": [
    ">**기출문제 제6회**\n",
    ">>**03 작업형 제3유형**"
   ]
  },
  {
   "cell_type": "markdown",
   "metadata": {},
   "source": [
    "# 문제 1. \n",
    "- K-S 검정을 통해 업무 수행 시간이 정규분포를 따르는지 검정하고자 한다.\n",
    "- 직원들의 업무 수행 시간의 평균과 표준편차를 구하시오. (소수점 셋째 자리까지 반올림)"
   ]
  },
  {
   "cell_type": "code",
   "execution_count": 15,
   "metadata": {
    "executionInfo": {
     "elapsed": 540,
     "status": "ok",
     "timestamp": 1741911775626,
     "user": {
      "displayName": "제쥬감귤",
      "userId": "17148962602000500758"
     },
     "user_tz": -540
    },
    "id": "aODwDph9CD8u"
   },
   "outputs": [
    {
     "data": {
      "text/html": [
       "<div>\n",
       "<style scoped>\n",
       "    .dataframe tbody tr th:only-of-type {\n",
       "        vertical-align: middle;\n",
       "    }\n",
       "\n",
       "    .dataframe tbody tr th {\n",
       "        vertical-align: top;\n",
       "    }\n",
       "\n",
       "    .dataframe thead th {\n",
       "        text-align: right;\n",
       "    }\n",
       "</style>\n",
       "<table border=\"1\" class=\"dataframe\">\n",
       "  <thead>\n",
       "    <tr style=\"text-align: right;\">\n",
       "      <th></th>\n",
       "      <th>work_hours</th>\n",
       "    </tr>\n",
       "  </thead>\n",
       "  <tbody>\n",
       "    <tr>\n",
       "      <th>0</th>\n",
       "      <td>10.646079</td>\n",
       "    </tr>\n",
       "    <tr>\n",
       "      <th>1</th>\n",
       "      <td>8.600236</td>\n",
       "    </tr>\n",
       "    <tr>\n",
       "      <th>2</th>\n",
       "      <td>9.468107</td>\n",
       "    </tr>\n",
       "    <tr>\n",
       "      <th>3</th>\n",
       "      <td>11.361340</td>\n",
       "    </tr>\n",
       "    <tr>\n",
       "      <th>4</th>\n",
       "      <td>10.801337</td>\n",
       "    </tr>\n",
       "  </tbody>\n",
       "</table>\n",
       "</div>"
      ],
      "text/plain": [
       "   work_hours\n",
       "0   10.646079\n",
       "1    8.600236\n",
       "2    9.468107\n",
       "3   11.361340\n",
       "4   10.801337"
      ]
     },
     "execution_count": 15,
     "metadata": {},
     "output_type": "execute_result"
    }
   ],
   "source": [
    "import pandas as pd\n",
    "data = pd.read_csv('6_3_1.csv')\n",
    "data.head()"
   ]
  },
  {
   "cell_type": "code",
   "execution_count": 17,
   "metadata": {
    "colab": {
     "base_uri": "https://localhost:8080/"
    },
    "executionInfo": {
     "elapsed": 12,
     "status": "ok",
     "timestamp": 1741911785781,
     "user": {
      "displayName": "제쥬감귤",
      "userId": "17148962602000500758"
     },
     "user_tz": -540
    },
    "id": "3J-lPaMrCGj-",
    "outputId": "c0909d43-c473-47e9-b323-731a8dc81c14"
   },
   "outputs": [
    {
     "data": {
      "text/plain": [
       "(np.float64(8.089712023301727), np.float64(1.5194396539027526))"
      ]
     },
     "execution_count": 17,
     "metadata": {},
     "output_type": "execute_result"
    }
   ],
   "source": [
    "# 코드\n",
    "mean_work_hours, std_work_hours = data['work_hours'].mean(), data['work_hours'].std()\n",
    "mean_work_hours, std_work_hours"
   ]
  },
  {
   "cell_type": "markdown",
   "metadata": {},
   "source": [
    "- 직원들의 업무 수행 시간이 정규분포를 따르는지 K-S 검정을 실시하고, 검정통계량을 계산하시오. (소수점 셋째 자리까지 반올림)\n",
    "- 가설설정\n",
    "  + 귀무가설 : 주어진 표본은 정규분포를 따른다. (reference 본포)\n",
    "  + 대립가설 : 주어진 표본은 정규분포를 따르지 않는다.\n",
    "- 응용 가설설정\n",
    "  + 귀무가설 : 주어진 표본은 정규분포를 따른다.\n",
    "  + 대립가설 : 주어진 표본은 정규분포를 따르지 않는다."
   ]
  },
  {
   "cell_type": "code",
   "execution_count": 18,
   "metadata": {
    "colab": {
     "base_uri": "https://localhost:8080/"
    },
    "executionInfo": {
     "elapsed": 44,
     "status": "ok",
     "timestamp": 1741911794638,
     "user": {
      "displayName": "제쥬감귤",
      "userId": "17148962602000500758"
     },
     "user_tz": -540
    },
    "id": "FiW0FFauCJfu",
    "outputId": "c89d8ef7-0e6b-443e-b354-7d0eddd86dcf"
   },
   "outputs": [
    {
     "data": {
      "text/plain": [
       "(np.float64(0.064), np.float64(0.778))"
      ]
     },
     "execution_count": 18,
     "metadata": {},
     "output_type": "execute_result"
    }
   ],
   "source": [
    "from scipy.stats import kstest, norm\n",
    "\n",
    "# 코드\n",
    "statistic, p_value = kstest(data['work_hours'], 'norm', args = (mean_work_hours, std_work_hours))\n",
    "statistic.round(3), p_value.round(3)"
   ]
  },
  {
   "cell_type": "markdown",
   "metadata": {},
   "source": [
    "- p-value를 바탕으로 `유의수준 5%`에서 귀무가설의 기각/채택 여부를 결정하시오. (p-value는 소수점 셋째 자리까지 반올림)"
   ]
  },
  {
   "cell_type": "code",
   "execution_count": 19,
   "metadata": {
    "colab": {
     "base_uri": "https://localhost:8080/"
    },
    "executionInfo": {
     "elapsed": 4,
     "status": "ok",
     "timestamp": 1741911806727,
     "user": {
      "displayName": "제쥬감귤",
      "userId": "17148962602000500758"
     },
     "user_tz": -540
    },
    "id": "g10jWFkyCLP_",
    "outputId": "40e32a5b-3c70-4ca9-c211-40f0af217a56"
   },
   "outputs": [
    {
     "name": "stdout",
     "output_type": "stream",
     "text": [
      "채택\n"
     ]
    }
   ],
   "source": [
    "# 코드\n",
    "# 코드\n",
    "p_value = p_value.round(3)\n",
    "\n",
    "# 결과 해석\n",
    "if p_value < 0.05:\n",
    "    result = \"기각\"\n",
    "else:\n",
    "    result = \"채택\"\n",
    "print(result)"
   ]
  },
  {
   "cell_type": "markdown",
   "metadata": {},
   "source": [
    "# 문제 2. \n",
    "- 주택 가격을 종속 변수로 하고, 면적, 방의 개수, 연식을 독립 변수로 하는 다중회귀 분석을 수행하여, 회귀계수가 가장 높은 변수를 구하시오. (다중회귀모형 적합 시 절편 포함)\n",
    "- 유의수준 5% 하에서 각 독립 변수가 주택 가격에 미치는 영향이 통계적으로 유의미한지 판단하고 유의미한 변수 개수를 구하시오. "
   ]
  },
  {
   "cell_type": "code",
   "execution_count": 7,
   "metadata": {
    "executionInfo": {
     "elapsed": 175,
     "status": "ok",
     "timestamp": 1741911814554,
     "user": {
      "displayName": "제쥬감귤",
      "userId": "17148962602000500758"
     },
     "user_tz": -540
    },
    "id": "ipcBAwtQCOyW"
   },
   "outputs": [
    {
     "data": {
      "text/html": [
       "<div>\n",
       "<style scoped>\n",
       "    .dataframe tbody tr th:only-of-type {\n",
       "        vertical-align: middle;\n",
       "    }\n",
       "\n",
       "    .dataframe tbody tr th {\n",
       "        vertical-align: top;\n",
       "    }\n",
       "\n",
       "    .dataframe thead th {\n",
       "        text-align: right;\n",
       "    }\n",
       "</style>\n",
       "<table border=\"1\" class=\"dataframe\">\n",
       "  <thead>\n",
       "    <tr style=\"text-align: right;\">\n",
       "      <th></th>\n",
       "      <th>price</th>\n",
       "      <th>area</th>\n",
       "      <th>rooms</th>\n",
       "      <th>age</th>\n",
       "    </tr>\n",
       "  </thead>\n",
       "  <tbody>\n",
       "    <tr>\n",
       "      <th>0</th>\n",
       "      <td>111842.374472</td>\n",
       "      <td>202.92157</td>\n",
       "      <td>2</td>\n",
       "      <td>11</td>\n",
       "    </tr>\n",
       "  </tbody>\n",
       "</table>\n",
       "</div>"
      ],
      "text/plain": [
       "           price       area  rooms  age\n",
       "0  111842.374472  202.92157      2   11"
      ]
     },
     "execution_count": 7,
     "metadata": {},
     "output_type": "execute_result"
    }
   ],
   "source": [
    "import pandas as pd\n",
    "data = pd.read_csv('6_3_2.csv')\n",
    "data.head(1)"
   ]
  },
  {
   "cell_type": "code",
   "execution_count": 11,
   "metadata": {
    "executionInfo": {
     "elapsed": 2729,
     "status": "ok",
     "timestamp": 1741911833869,
     "user": {
      "displayName": "제쥬감귤",
      "userId": "17148962602000500758"
     },
     "user_tz": -540
    },
    "id": "uRb71jZBCQiy"
   },
   "outputs": [
    {
     "name": "stdout",
     "output_type": "stream",
     "text": [
      "                            OLS Regression Results                            \n",
      "==============================================================================\n",
      "Dep. Variable:                  price   R-squared:                       0.708\n",
      "Model:                            OLS   Adj. R-squared:                  0.699\n",
      "Method:                 Least Squares   F-statistic:                     77.65\n",
      "Date:                Thu, 22 May 2025   Prob (F-statistic):           1.41e-25\n",
      "Time:                        10:07:08   Log-Likelihood:                -1055.4\n",
      "No. Observations:                 100   AIC:                             2119.\n",
      "Df Residuals:                      96   BIC:                             2129.\n",
      "Df Model:                           3                                         \n",
      "Covariance Type:            nonrobust                                         \n",
      "==============================================================================\n",
      "                 coef    std err          t      P>|t|      [0.025      0.975]\n",
      "------------------------------------------------------------------------------\n",
      "const       5.395e+04   6081.703      8.871      0.000    4.19e+04     6.6e+04\n",
      "area         269.4302     31.740      8.489      0.000     206.426     332.434\n",
      "rooms       9269.9421    832.869     11.130      0.000    7616.710    1.09e+04\n",
      "age         -895.5821    106.203     -8.433      0.000   -1106.394    -684.770\n",
      "==============================================================================\n",
      "Omnibus:                        0.738   Durbin-Watson:                   2.134\n",
      "Prob(Omnibus):                  0.692   Jarque-Bera (JB):                0.305\n",
      "Skew:                           0.009   Prob(JB):                        0.859\n",
      "Kurtosis:                       3.270   Cond. No.                     1.00e+03\n",
      "==============================================================================\n",
      "\n",
      "Notes:\n",
      "[1] Standard Errors assume that the covariance matrix of the errors is correctly specified.\n",
      "[2] The condition number is large,  1e+03. This might indicate that there are\n",
      "strong multicollinearity or other numerical problems.\n"
     ]
    }
   ],
   "source": [
    "# 코드\n",
    "# 독립 변수와 종속 변수 설정\n",
    "import statsmodels.api as sm\n",
    "\n",
    "X = data[['area', 'rooms', 'age']]\n",
    "y = data['price']\n",
    "\n",
    "# 상수항 추가\n",
    "X = sm.add_constant(X)\n",
    "\n",
    "# 다중회귀 분석 모델 적합\n",
    "model = sm.OLS(y, X).fit()\n",
    "print(model.summary())"
   ]
  },
  {
   "cell_type": "code",
   "execution_count": 12,
   "metadata": {
    "colab": {
     "base_uri": "https://localhost:8080/"
    },
    "executionInfo": {
     "elapsed": 12,
     "status": "ok",
     "timestamp": 1741911839356,
     "user": {
      "displayName": "제쥬감귤",
      "userId": "17148962602000500758"
     },
     "user_tz": -540
    },
    "id": "ZeCYey1hCUaP",
    "outputId": "e340aa6b-b1a9-4494-ed3d-d1ac33f4cad9"
   },
   "outputs": [
    {
     "data": {
      "text/plain": [
       "area      269.430158\n",
       "rooms    9269.942072\n",
       "age      -895.582062\n",
       "dtype: float64"
      ]
     },
     "execution_count": 12,
     "metadata": {},
     "output_type": "execute_result"
    }
   ],
   "source": [
    "# 코드\n",
    "coefficients = model.params[1:]\n",
    "coefficients"
   ]
  },
  {
   "cell_type": "code",
   "execution_count": 13,
   "metadata": {
    "colab": {
     "base_uri": "https://localhost:8080/"
    },
    "executionInfo": {
     "elapsed": 3,
     "status": "ok",
     "timestamp": 1741911846728,
     "user": {
      "displayName": "제쥬감귤",
      "userId": "17148962602000500758"
     },
     "user_tz": -540
    },
    "id": "R3TUOMqnCWj1",
    "outputId": "eb7a990c-0524-4fc9-f729-2bc2d7f8c71d"
   },
   "outputs": [
    {
     "data": {
      "text/plain": [
       "area     2.600518e-13\n",
       "rooms    5.688729e-19\n",
       "age      3.421804e-13\n",
       "dtype: float64"
      ]
     },
     "execution_count": 13,
     "metadata": {},
     "output_type": "execute_result"
    }
   ],
   "source": [
    "# 코드\n",
    "import numpy as np\n",
    "p_values = model.pvalues[1:]\n",
    "p_values"
   ]
  },
  {
   "cell_type": "code",
   "execution_count": null,
   "metadata": {},
   "outputs": [],
   "source": []
  }
 ],
 "metadata": {
  "colab": {
   "authorship_tag": "ABX9TyMMZP/7tg5eJGVAem/ghPv2",
   "provenance": []
  },
  "kernelspec": {
   "display_name": "Python 3 (ipykernel)",
   "language": "python",
   "name": "python3"
  },
  "language_info": {
   "codemirror_mode": {
    "name": "ipython",
    "version": 3
   },
   "file_extension": ".py",
   "mimetype": "text/x-python",
   "name": "python",
   "nbconvert_exporter": "python",
   "pygments_lexer": "ipython3",
   "version": "3.11.12"
  }
 },
 "nbformat": 4,
 "nbformat_minor": 4
}
