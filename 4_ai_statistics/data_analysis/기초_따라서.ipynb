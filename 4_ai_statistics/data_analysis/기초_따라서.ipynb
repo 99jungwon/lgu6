{
 "cells": [
  {
   "cell_type": "code",
   "execution_count": 1,
   "id": "35332b3d-f5aa-412e-b8aa-b80ecd8dba73",
   "metadata": {},
   "outputs": [
    {
     "data": {
      "text/plain": [
       "'1.15.3'"
      ]
     },
     "execution_count": 1,
     "metadata": {},
     "output_type": "execute_result"
    }
   ],
   "source": [
    "# 필요한 패키지 임포트\n",
    "\n",
    "import numpy as np  # 수치 계산, 배열, 선형대수 등 수치 연산 지원\n",
    "import matplotlib.pyplot as plt  # 데이터 시각화(그래프, 차트) 라이브러리\n",
    "from pgmpy.factors.discrete import JointProbabilityDistribution as JPD  # 이산형 결합확률분포 도구\n",
    "\n",
    "import sympy  # 기호(symbolic) 수학 계산 패키지\n",
    "\n",
    "import scipy  # 과학 계산용 패키지(최적화, 통계 등 다양한 기능)\n",
    "from scipy import linalg as la  # 선형대수 관련 기능(행렬 연산 등)\n",
    "import scipy.stats as ss  # 확률분포 및 통계 함수 제공\n",
    "import scipy.special  # 특수 함수(감마, 베타 등) 계산\n",
    "\n",
    "# 한글 출력 설정\n",
    "plt.rcParams['font.family'] = 'Malgun Gothic'  # 한글 폰트 설정(윈도우: 'Malgun Gothic')\n",
    "plt.rcParams['axes.unicode_minus'] = False  # 마이너스 기호(-) 한글 출력 오류 방지\n",
    "\n",
    "scipy.__version__  # scipy 버전 확인\n"
   ]
  },
  {
   "cell_type": "markdown",
   "id": "4fc47b1d-b61f-4452-864c-457946ae0ce7",
   "metadata": {},
   "source": [
    "# 테스트"
   ]
  },
  {
   "cell_type": "code",
   "execution_count": 2,
   "id": "6a81a2ce-2067-4bf4-8cde-40348d378e99",
   "metadata": {},
   "outputs": [
    {
     "data": {
      "text/plain": [
       "<function matplotlib.pyplot.show(close=None, block=None)>"
      ]
     },
     "execution_count": 2,
     "metadata": {},
     "output_type": "execute_result"
    },
    {
     "data": {
      "image/png": "[encoded data removed]",
      "text/plain": [
       "<Figure size 640x480 with 1 Axes>"
      ]
     },
     "metadata": {},
     "output_type": "display_data"
    }
   ],
   "source": [
    "plt.plot([1, 2, 3])\n",
    "plt.title(\"한글 나오나\")\n",
    "plt.show"
   ]
  },
  {
   "cell_type": "markdown",
   "id": "d0ca46e3-db6a-4a61-a8f9-52c3e4ee5d0d",
   "metadata": {},
   "source": [
    "# 라이브러리 불러오기"
   ]
  },
  {
   "cell_type": "code",
   "execution_count": 3,
   "id": "0095bd54-cd7e-458a-8e26-5ebebf7c90c7",
   "metadata": {},
   "outputs": [],
   "source": [
    "from statsmodels.tsa.statespace.sarimax import SARIMAX  # 시계열 예측용 SARIMAX(계절성, 외생변수 포함 ARIMA) 모델\n",
    "from statsmodels.tsa.arima_process import ArmaProcess  # ARMA(자기회귀·이동평균) 시계열 데이터 생성/분석 도구\n",
    "from statsmodels.graphics.tsaplots import plot_acf  # 자기상관함수(ACF) 플롯 함수(시계열 데이터의 자기상관 시각화)\n",
    "from statsmodels.tsa.stattools import adfuller  # ADF(단위근) 검정: 시계열의 정상성(Stationarity) 판별 함수\n",
    "import matplotlib.pyplot as plt  # 시각화(그래프, 차트) 라이브러리\n",
    "import numpy as np  # 수치 연산, 배열 연산\n",
    "import pandas as pd  # 데이터프레임(테이블 형태 데이터) 처리 라이브러리\n",
    "\n",
    "import warnings  # 경고 메시지 제어\n",
    "warnings.filterwarnings('ignore')  # 경고 메시지 무시(코드 실행 시 불필요한 경고 숨김)\n",
    "\n",
    "%matplotlib inline  # Jupyter Notebook에서 그래프를 셀 내부에 바로 표시"
   ]
  },
  {
   "cell_type": "markdown",
   "id": "a1a61434-136d-408c-b1d5-e7a82f89c67a",
   "metadata": {},
   "source": [
    "## 시계열 시각화 맛보기\n",
    "- matplotlib 설정\n",
    "- 데이터 불러오기"
   ]
  },
  {
   "cell_type": "code",
   "execution_count": 4,
   "id": "3e70bd17-39ba-4b26-a4f9-dcc8119e6c07",
   "metadata": {},
   "outputs": [
    {
     "data": {
      "text/html": [
       "<div>\n",
       "<style scoped>\n",
       "    .dataframe tbody tr th:only-of-type {\n",
       "        vertical-align: middle;\n",
       "    }\n",
       "\n",
       "    .dataframe tbody tr th {\n",
       "        vertical-align: top;\n",
       "    }\n",
       "\n",
       "    .dataframe thead th {\n",
       "        text-align: right;\n",
       "    }\n",
       "</style>\n",
       "<table border=\"1\" class=\"dataframe\">\n",
       "  <thead>\n",
       "    <tr style=\"text-align: right;\">\n",
       "      <th></th>\n",
       "      <th>widget_sales</th>\n",
       "    </tr>\n",
       "  </thead>\n",
       "  <tbody>\n",
       "    <tr>\n",
       "      <th>0</th>\n",
       "      <td>50.496714</td>\n",
       "    </tr>\n",
       "    <tr>\n",
       "      <th>1</th>\n",
       "      <td>50.805493</td>\n",
       "    </tr>\n",
       "    <tr>\n",
       "      <th>2</th>\n",
       "      <td>51.477758</td>\n",
       "    </tr>\n",
       "    <tr>\n",
       "      <th>3</th>\n",
       "      <td>53.542228</td>\n",
       "    </tr>\n",
       "    <tr>\n",
       "      <th>4</th>\n",
       "      <td>54.873108</td>\n",
       "    </tr>\n",
       "  </tbody>\n",
       "</table>\n",
       "</div>"
      ],
      "text/plain": [
       "   widget_sales\n",
       "0     50.496714\n",
       "1     50.805493\n",
       "2     51.477758\n",
       "3     53.542228\n",
       "4     54.873108"
      ]
     },
     "execution_count": 4,
     "metadata": {},
     "output_type": "execute_result"
    }
   ],
   "source": [
    "DATA_PATH = './data/'\n",
    "\n",
    "df = pd.read_csv(DATA_PATH + 'widget_sales.csv')\n",
    "\n",
    "df.head()"
   ]
  },
  {
   "cell_type": "markdown",
   "id": "5f4ffa0c-0de8-45a9-a185-33532e1c7ab5",
   "metadata": {},
   "source": [
    "## 주어진 시계열 데이터 시각화"
   ]
  },
  {
   "cell_type": "code",
   "execution_count": null,
   "id": "beae74e1-d330-4a29-917a-0b572c380ba3",
   "metadata": {},
   "outputs": [],
   "source": []
  },
  {
   "cell_type": "code",
   "execution_count": null,
   "id": "817011f7-535f-4683-a1f7-9e599a2e431a",
   "metadata": {},
   "outputs": [],
   "source": []
  },
  {
   "cell_type": "code",
   "execution_count": null,
   "id": "9883a201-307a-46f2-9e98-d7b29ab1f88e",
   "metadata": {},
   "outputs": [],
   "source": []
  },
  {
   "cell_type": "code",
   "execution_count": null,
   "id": "7aaf9e6a-8090-4dd4-8d0c-cb38374800ba",
   "metadata": {},
   "outputs": [],
   "source": []
  },
  {
   "cell_type": "code",
   "execution_count": null,
   "id": "f051443c-562b-48a7-a819-0153dbf7c88e",
   "metadata": {},
   "outputs": [],
   "source": []
  },
  {
   "cell_type": "code",
   "execution_count": null,
   "id": "3e0c70a1-c550-46c9-93bf-36fa728dc05a",
   "metadata": {},
   "outputs": [],
   "source": []
  },
  {
   "cell_type": "code",
   "execution_count": null,
   "id": "fd37e93b-45ba-422f-93a2-faac0da49a44",
   "metadata": {},
   "outputs": [],
   "source": []
  },
  {
   "cell_type": "code",
   "execution_count": null,
   "id": "d57a21a2-4749-40b8-9620-ef5c1a38d831",
   "metadata": {},
   "outputs": [],
   "source": []
  }
 ],
 "metadata": {
  "kernelspec": {
   "display_name": "Python 3 (ipykernel)",
   "language": "python",
   "name": "python3"
  },
  "language_info": {
   "codemirror_mode": {
    "name": "ipython",
    "version": 3
   },
   "file_extension": ".py",
   "mimetype": "text/x-python",
   "name": "python",
   "nbconvert_exporter": "python",
   "pygments_lexer": "ipython3",
   "version": "3.11.12"
  }
 },
 "nbformat": 4,
 "nbformat_minor": 5
}
